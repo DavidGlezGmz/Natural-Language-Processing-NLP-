{
  "cells": [
    {
      "cell_type": "code",
      "execution_count": 11,
      "metadata": {
        "colab": {
          "base_uri": "https://localhost:8080/"
        },
        "id": "TnqWIpcW3Aeq",
        "outputId": "2ec117d8-cd57-4063-e92f-1c0bbd11d931"
      },
      "outputs": [
        {
          "output_type": "stream",
          "name": "stdout",
          "text": [
            "[nltk_data] Downloading package punkt to /root/nltk_data...\n",
            "[nltk_data]   Package punkt is already up-to-date!\n",
            "[nltk_data] Downloading package wordnet to /root/nltk_data...\n",
            "[nltk_data]   Package wordnet is already up-to-date!\n"
          ]
        },
        {
          "output_type": "execute_result",
          "data": {
            "text/plain": [
              "True"
            ]
          },
          "metadata": {},
          "execution_count": 11
        }
      ],
      "source": [
        "import numpy as np\n",
        "import string\n",
        "import random\n",
        "import nltk\n",
        "import pandas as pd\n",
        "import matplotlib.pyplot as plt\n",
        "\n",
        "import base64\n",
        "import requests\n",
        "\n",
        "from nltk.tokenize import word_tokenize\n",
        "from gensim.models.doc2vec import Doc2Vec, TaggedDocument\n",
        "from sklearn.feature_extraction.text import TfidfVectorizer\n",
        "from sklearn.metrics.pairwise import cosine_similarity\n",
        "\n",
        "nltk.download('punkt') #Using the Punkt tokenizer\n",
        "nltk.download('wordnet') #Using the WordNet Dictionaty"
      ]
    },
    {
      "cell_type": "code",
      "execution_count": 12,
      "metadata": {
        "id": "NFJab9_Cfcfv"
      },
      "outputs": [],
      "source": [
        "#Chattxt = open('https://raw.githubusercontent.com/DavidGlezGmz/Natural-Language-Processing-NLP-/main/Chatbot.txt', 'r', errors='ignore') # LEVEL 1\n",
        "Chattxt = 'https://raw.githubusercontent.com/DavidGlezGmz/Natural-Language-Processing-NLP-/main/Chatbot.txt'\n",
        "Chattxt = requests.get(Chattxt)\n",
        "Chattxt = Chattxt.text\n",
        "\n",
        "vehicle = pd.read_csv('https://raw.githubusercontent.com/DavidGlezGmz/Natural-Language-Processing-NLP-/main/vehicle.csv', header=None) # LEVEL 2\n",
        "vehicle = vehicle[0]\n",
        "\n",
        "noise = pd.read_csv('https://raw.githubusercontent.com/DavidGlezGmz/Natural-Language-Processing-NLP-/main/noise.csv', header=None) # LEVEL 2\n",
        "noise = noise[0]\n",
        "\n",
        "neighbor = pd.read_csv('https://raw.githubusercontent.com/DavidGlezGmz/Natural-Language-Processing-NLP-/main/neighbor.csv', header=None) # LEVEL 2\n",
        "neighbor = neighbor[0]"
      ]
    },
    {
      "cell_type": "code",
      "source": [
        "neighbor"
      ],
      "metadata": {
        "colab": {
          "base_uri": "https://localhost:8080/"
        },
        "id": "34jVsHcVu6mn",
        "outputId": "ad469999-223c-49be-835a-39e93e442c4e"
      },
      "execution_count": 13,
      "outputs": [
        {
          "output_type": "execute_result",
          "data": {
            "text/plain": [
              "0     Its near freezing and I saw a dog chained up i...\n",
              "1     Its a hot day and I see a dog in a car with it...\n",
              "2     Ive seen litters of cats around the building b...\n",
              "3     Found a dog huddled in an alley He has a colla...\n",
              "4     I think my neighbor is engaging in illegal pit...\n",
              "5     There are flyers on every car in the shopping ...\n",
              "6     Knockoff purse dealer has set up shop on the 1...\n",
              "7     You cant park a food truck along this resident...\n",
              "8     A group of people are walking with glass conta...\n",
              "9     The bar just closed but some patrons are tryin...\n",
              "10    Drunk guy peed on a parked car Man peed on the...\n",
              "11    Homeless people setting up tents under the ove...\n",
              "12    Guy with a sign and squeegee at the intersecti...\n",
              "13    Neighborhood kids out after curfew Kids across...\n",
              "14    Kids at the park are skipping school Teens smo...\n",
              "15    Teenagers are spray painting a store front A b...\n",
              "16    Teenage house party going on in the suburbs Pa...\n",
              "Name: 0, dtype: object"
            ]
          },
          "metadata": {},
          "execution_count": 13
        }
      ]
    },
    {
      "cell_type": "code",
      "execution_count": 14,
      "metadata": {
        "id": "pNs1wOCNi5f-"
      },
      "outputs": [],
      "source": [
        "#raw_doc = Chattxt.read()\n",
        "raw_doc = Chattxt\n",
        "raw_doc = raw_doc.lower() #Converts text to lowercase\n",
        "\n",
        "sent_tokens = nltk.sent_tokenize(raw_doc) #Converts doc to list of sentences\n",
        "word_tokens = nltk.word_tokenize(raw_doc) #Converts doc to list of words"
      ]
    },
    {
      "cell_type": "code",
      "execution_count": 15,
      "metadata": {
        "colab": {
          "base_uri": "https://localhost:8080/"
        },
        "id": "puj5ZBowWr6o",
        "outputId": "dfdc086d-70fb-4883-c0fc-9da68d2ee2e9"
      },
      "outputs": [
        {
          "output_type": "execute_result",
          "data": {
            "text/plain": [
              "['vehicle.', 'vehicle.']"
            ]
          },
          "metadata": {},
          "execution_count": 15
        }
      ],
      "source": [
        "sent_tokens[:2]"
      ]
    },
    {
      "cell_type": "code",
      "execution_count": 16,
      "metadata": {
        "colab": {
          "base_uri": "https://localhost:8080/"
        },
        "id": "Adn8gfXCWt6a",
        "outputId": "481ba194-c8f0-494b-d7fd-8016a62415c6"
      },
      "outputs": [
        {
          "output_type": "execute_result",
          "data": {
            "text/plain": [
              "['vehicle', '.', 'vehicle', '.', '[']"
            ]
          },
          "metadata": {},
          "execution_count": 16
        }
      ],
      "source": [
        "word_tokens[:5]"
      ]
    },
    {
      "cell_type": "markdown",
      "metadata": {
        "id": "yzSGkGLoWwhB"
      },
      "source": [
        "## Text Preprocessing"
      ]
    },
    {
      "cell_type": "code",
      "execution_count": 17,
      "metadata": {
        "id": "NH4zcSRMWuPT"
      },
      "outputs": [],
      "source": [
        "lemmer = nltk.stem.WordNetLemmatizer() #WordNet is a semantically-oriented dictionary of English included in NLTK\n",
        "\n",
        "def LemTokens(tokens):\n",
        "  return [lemmer.lemmatize(token) for token in tokens]\n",
        "\n",
        "remove_punct_dict = dict((ord(punct), None) for punct in string.punctuation)\n",
        "\n",
        "def LemNormalize(text):\n",
        "  return LemTokens(nltk.word_tokenize(text.lower().translate(remove_punct_dict)))\n",
        "\n",
        "def cosine(u, v):\n",
        "    return np.dot(u, v) / (np.linalg.norm(u) * np.linalg.norm(v))"
      ]
    },
    {
      "cell_type": "markdown",
      "metadata": {
        "id": "sBhK4BjuW3j4"
      },
      "source": [
        "## Defining the greeting function"
      ]
    },
    {
      "cell_type": "code",
      "execution_count": 18,
      "metadata": {
        "id": "oR5zyW5kWzN-"
      },
      "outputs": [],
      "source": [
        "GREET_INPUTS = (\"hello\", \"hi\", \"greetings\", \"sup\", \"what's up\", \"hey\", \"wassup\", \"hola\")\n",
        "GREET_RESPONSES = [\"Hello!, I am a virtual assistant to attend to your concern, how can I help you?\",\n",
        "                   \"Greetings! It's an honor to serve you, how can I help you?\",\n",
        "                   \"Hello, you are contacting the police server, how can we help you?\"]\n",
        "\n",
        "def greeting(sentence):\n",
        "    \"\"\"If user's input is a greeting, return a greeting response\"\"\"\n",
        "    for word in sentence.split():\n",
        "        if word.lower() in GREET_INPUTS:\n",
        "            return random.choice(GREET_RESPONSES)"
      ]
    },
    {
      "cell_type": "markdown",
      "metadata": {
        "id": "52tymKjvW6il"
      },
      "source": [
        "## Response generation"
      ]
    },
    {
      "cell_type": "code",
      "execution_count": 19,
      "metadata": {
        "id": "gHZwTf1MW_vK"
      },
      "outputs": [],
      "source": [
        "# Generating response\n",
        "def response(user_response):\n",
        "    robo_response=''\n",
        "    sent_tokens.append(user_response)\n",
        "    TfidfVec = TfidfVectorizer(tokenizer=LemNormalize, stop_words='english')\n",
        "    tfidf = TfidfVec.fit_transform(sent_tokens)\n",
        "    vals = cosine_similarity(tfidf[-1], tfidf)\n",
        "    idx=vals.argsort()[0][-2]\n",
        "    flat = vals.flatten()\n",
        "    flat.sort()\n",
        "    req_tfidf = flat[-2]\n",
        "    if(req_tfidf==0):\n",
        "        robo_response = robo_response + \"BOT: Sorry, I have been trained to deal with NON-EMERGENCY cases, please describe your concern:\"\n",
        "        return robo_response\n",
        "    else:\n",
        "        robo_response = \"BOT: Option detected - \" + robo_response + sent_tokens[idx-1]\n",
        "        return robo_response"
      ]
    },
    {
      "cell_type": "code",
      "execution_count": 20,
      "metadata": {
        "colab": {
          "base_uri": "https://localhost:8080/",
          "height": 1000
        },
        "id": "Q0mMpLXuXCgx",
        "outputId": "bd4daf55-5bdb-42f3-93e3-6108b253e035"
      },
      "outputs": [
        {
          "output_type": "stream",
          "name": "stdout",
          "text": [
            "--------------------------------------------------------------------------------------------------------------------\n",
            "\t\t\t NON-EMERGENCY POLICE ASSISTANCE LINE\n",
            "\t\n",
            "To continue, please type one's of the followings options or chat with the assistance for more help\n",
            "\t\n",
            "\t 1. Vehicle\n",
            "\t 2. Noise\n",
            "\t 3. Neighbor\n",
            "\t\n",
            "BOT: Greetings, Citizen! What's your concern?\n",
            "1\n",
            "\t\t\n"
          ]
        },
        {
          "output_type": "stream",
          "name": "stderr",
          "text": [
            "/usr/local/lib/python3.7/dist-packages/sklearn/feature_extraction/text.py:401: UserWarning: Your stop_words may be inconsistent with your preprocessing. Tokenizing the stop words generated tokens ['ha', 'le', 'u', 'wa'] not in stop_words.\n",
            "  % sorted(inconsistent)\n"
          ]
        },
        {
          "output_type": "stream",
          "name": "stdout",
          "text": [
            "BOT: Option detected - vehicle.\n",
            "BOT: Do you want to continue? (Yes / No)\n",
            "y\n",
            "---------------------------------------------------------------------------------------------------------------------\n",
            "\t\t      ASSISTANCE FOR THE NON-URGENT CASE:  VEHICLE\n",
            "\t\t\t 14 Categories have been detected\n",
            "\n",
            "BOT: Describe in detail how the events occurred: \n",
            "car going faster\n",
            "\n",
            "\n"
          ]
        },
        {
          "output_type": "display_data",
          "data": {
            "text/plain": [
              "<Figure size 432x288 with 1 Axes>"
            ],
            "image/png": "[encoded data removed]"
          },
          "metadata": {
            "needs_background": "light"
          }
        },
        {
          "output_type": "stream",
          "name": "stdout",
          "text": [
            "\n",
            "\n",
            "1.-  Engine \t 74.54429864883423 %\n",
            "2.-  Derelict Vehicle without plates \t 69.37700510025024 %\n",
            "3.-  Blocked Sidewalk \t 61.36559247970581 %\n",
            "\n",
            "---------------------------------------------------------------------------------------------------------------------\n",
            "\n",
            "BOT: To communicate with the department of  ENGINE click on the following link: https:www.police.com\n",
            "BOT: Do you want to try again? (Yes / No)\n"
          ]
        },
        {
          "output_type": "error",
          "ename": "KeyboardInterrupt",
          "evalue": "ignored",
          "traceback": [
            "\u001b[0;31m---------------------------------------------------------------------------\u001b[0m",
            "\u001b[0;31mKeyboardInterrupt\u001b[0m                         Traceback (most recent call last)",
            "\u001b[0;32m/usr/local/lib/python3.7/dist-packages/ipykernel/kernelbase.py\u001b[0m in \u001b[0;36m_input_request\u001b[0;34m(self, prompt, ident, parent, password)\u001b[0m\n\u001b[1;32m    728\u001b[0m             \u001b[0;32mtry\u001b[0m\u001b[0;34m:\u001b[0m\u001b[0;34m\u001b[0m\u001b[0;34m\u001b[0m\u001b[0m\n\u001b[0;32m--> 729\u001b[0;31m                 \u001b[0mident\u001b[0m\u001b[0;34m,\u001b[0m \u001b[0mreply\u001b[0m \u001b[0;34m=\u001b[0m \u001b[0mself\u001b[0m\u001b[0;34m.\u001b[0m\u001b[0msession\u001b[0m\u001b[0;34m.\u001b[0m\u001b[0mrecv\u001b[0m\u001b[0;34m(\u001b[0m\u001b[0mself\u001b[0m\u001b[0;34m.\u001b[0m\u001b[0mstdin_socket\u001b[0m\u001b[0;34m,\u001b[0m \u001b[0;36m0\u001b[0m\u001b[0;34m)\u001b[0m\u001b[0;34m\u001b[0m\u001b[0;34m\u001b[0m\u001b[0m\n\u001b[0m\u001b[1;32m    730\u001b[0m             \u001b[0;32mexcept\u001b[0m \u001b[0mException\u001b[0m\u001b[0;34m:\u001b[0m\u001b[0;34m\u001b[0m\u001b[0;34m\u001b[0m\u001b[0m\n",
            "\u001b[0;32m/usr/local/lib/python3.7/dist-packages/jupyter_client/session.py\u001b[0m in \u001b[0;36mrecv\u001b[0;34m(self, socket, mode, content, copy)\u001b[0m\n\u001b[1;32m    802\u001b[0m         \u001b[0;32mtry\u001b[0m\u001b[0;34m:\u001b[0m\u001b[0;34m\u001b[0m\u001b[0;34m\u001b[0m\u001b[0m\n\u001b[0;32m--> 803\u001b[0;31m             \u001b[0mmsg_list\u001b[0m \u001b[0;34m=\u001b[0m \u001b[0msocket\u001b[0m\u001b[0;34m.\u001b[0m\u001b[0mrecv_multipart\u001b[0m\u001b[0;34m(\u001b[0m\u001b[0mmode\u001b[0m\u001b[0;34m,\u001b[0m \u001b[0mcopy\u001b[0m\u001b[0;34m=\u001b[0m\u001b[0mcopy\u001b[0m\u001b[0;34m)\u001b[0m\u001b[0;34m\u001b[0m\u001b[0;34m\u001b[0m\u001b[0m\n\u001b[0m\u001b[1;32m    804\u001b[0m         \u001b[0;32mexcept\u001b[0m \u001b[0mzmq\u001b[0m\u001b[0;34m.\u001b[0m\u001b[0mZMQError\u001b[0m \u001b[0;32mas\u001b[0m \u001b[0me\u001b[0m\u001b[0;34m:\u001b[0m\u001b[0;34m\u001b[0m\u001b[0;34m\u001b[0m\u001b[0m\n",
            "\u001b[0;32m/usr/local/lib/python3.7/dist-packages/zmq/sugar/socket.py\u001b[0m in \u001b[0;36mrecv_multipart\u001b[0;34m(self, flags, copy, track)\u001b[0m\n\u001b[1;32m    723\u001b[0m         \"\"\"\n\u001b[0;32m--> 724\u001b[0;31m         \u001b[0mparts\u001b[0m \u001b[0;34m=\u001b[0m \u001b[0;34m[\u001b[0m\u001b[0mself\u001b[0m\u001b[0;34m.\u001b[0m\u001b[0mrecv\u001b[0m\u001b[0;34m(\u001b[0m\u001b[0mflags\u001b[0m\u001b[0;34m,\u001b[0m \u001b[0mcopy\u001b[0m\u001b[0;34m=\u001b[0m\u001b[0mcopy\u001b[0m\u001b[0;34m,\u001b[0m \u001b[0mtrack\u001b[0m\u001b[0;34m=\u001b[0m\u001b[0mtrack\u001b[0m\u001b[0;34m)\u001b[0m\u001b[0;34m]\u001b[0m\u001b[0;34m\u001b[0m\u001b[0;34m\u001b[0m\u001b[0m\n\u001b[0m\u001b[1;32m    725\u001b[0m         \u001b[0;31m# have first part already, only loop while more to receive\u001b[0m\u001b[0;34m\u001b[0m\u001b[0;34m\u001b[0m\u001b[0;34m\u001b[0m\u001b[0m\n",
            "\u001b[0;32mzmq/backend/cython/socket.pyx\u001b[0m in \u001b[0;36mzmq.backend.cython.socket.Socket.recv\u001b[0;34m()\u001b[0m\n",
            "\u001b[0;32mzmq/backend/cython/socket.pyx\u001b[0m in \u001b[0;36mzmq.backend.cython.socket.Socket.recv\u001b[0;34m()\u001b[0m\n",
            "\u001b[0;32mzmq/backend/cython/socket.pyx\u001b[0m in \u001b[0;36mzmq.backend.cython.socket._recv_copy\u001b[0;34m()\u001b[0m\n",
            "\u001b[0;32m/usr/local/lib/python3.7/dist-packages/zmq/backend/cython/checkrc.pxd\u001b[0m in \u001b[0;36mzmq.backend.cython.checkrc._check_rc\u001b[0;34m()\u001b[0m\n",
            "\u001b[0;31mKeyboardInterrupt\u001b[0m: ",
            "\nDuring handling of the above exception, another exception occurred:\n",
            "\u001b[0;31mKeyboardInterrupt\u001b[0m                         Traceback (most recent call last)",
            "\u001b[0;32m<ipython-input-20-ec0afb4eadf0>\u001b[0m in \u001b[0;36m<module>\u001b[0;34m()\u001b[0m\n\u001b[1;32m    132\u001b[0m                     \u001b[0mprint\u001b[0m\u001b[0;34m(\u001b[0m\u001b[0;34m\"\\nBOT: To communicate with the department of \"\u001b[0m\u001b[0;34m,\u001b[0m \u001b[0mCategory\u001b[0m\u001b[0;34m[\u001b[0m\u001b[0mTop3\u001b[0m\u001b[0;34m[\u001b[0m\u001b[0;36m0\u001b[0m\u001b[0;34m]\u001b[0m\u001b[0;34m[\u001b[0m\u001b[0;36m0\u001b[0m\u001b[0;34m]\u001b[0m\u001b[0;34m]\u001b[0m\u001b[0;34m.\u001b[0m\u001b[0mupper\u001b[0m\u001b[0;34m(\u001b[0m\u001b[0;34m)\u001b[0m\u001b[0;34m,\u001b[0m \u001b[0;34m\"click on the following link: https:www.police.com\"\u001b[0m\u001b[0;34m)\u001b[0m\u001b[0;34m\u001b[0m\u001b[0;34m\u001b[0m\u001b[0m\n\u001b[1;32m    133\u001b[0m                     \u001b[0mprint\u001b[0m\u001b[0;34m(\u001b[0m\u001b[0;34m\"BOT: Do you want to try again? (Yes / No)\"\u001b[0m\u001b[0;34m)\u001b[0m\u001b[0;34m\u001b[0m\u001b[0;34m\u001b[0m\u001b[0m\n\u001b[0;32m--> 134\u001b[0;31m                     \u001b[0muser_response\u001b[0m \u001b[0;34m=\u001b[0m \u001b[0minput\u001b[0m\u001b[0;34m(\u001b[0m\u001b[0;34m)\u001b[0m\u001b[0;34m\u001b[0m\u001b[0;34m\u001b[0m\u001b[0m\n\u001b[0m\u001b[1;32m    135\u001b[0m                     \u001b[0muser_response\u001b[0m\u001b[0;34m=\u001b[0m\u001b[0muser_response\u001b[0m\u001b[0;34m.\u001b[0m\u001b[0mlower\u001b[0m\u001b[0;34m(\u001b[0m\u001b[0;34m)\u001b[0m\u001b[0;34m\u001b[0m\u001b[0;34m\u001b[0m\u001b[0m\n\u001b[1;32m    136\u001b[0m                     \u001b[0;32mif\u001b[0m\u001b[0;34m(\u001b[0m\u001b[0muser_response\u001b[0m \u001b[0;34m==\u001b[0m \u001b[0;34m'yes'\u001b[0m \u001b[0;32mor\u001b[0m \u001b[0muser_response\u001b[0m \u001b[0;34m==\u001b[0m \u001b[0;34m'y'\u001b[0m\u001b[0;34m)\u001b[0m\u001b[0;34m:\u001b[0m\u001b[0;34m\u001b[0m\u001b[0;34m\u001b[0m\u001b[0m\n",
            "\u001b[0;32m/usr/local/lib/python3.7/dist-packages/ipykernel/kernelbase.py\u001b[0m in \u001b[0;36mraw_input\u001b[0;34m(self, prompt)\u001b[0m\n\u001b[1;32m    702\u001b[0m             \u001b[0mself\u001b[0m\u001b[0;34m.\u001b[0m\u001b[0m_parent_ident\u001b[0m\u001b[0;34m,\u001b[0m\u001b[0;34m\u001b[0m\u001b[0;34m\u001b[0m\u001b[0m\n\u001b[1;32m    703\u001b[0m             \u001b[0mself\u001b[0m\u001b[0;34m.\u001b[0m\u001b[0m_parent_header\u001b[0m\u001b[0;34m,\u001b[0m\u001b[0;34m\u001b[0m\u001b[0;34m\u001b[0m\u001b[0m\n\u001b[0;32m--> 704\u001b[0;31m             \u001b[0mpassword\u001b[0m\u001b[0;34m=\u001b[0m\u001b[0;32mFalse\u001b[0m\u001b[0;34m,\u001b[0m\u001b[0;34m\u001b[0m\u001b[0;34m\u001b[0m\u001b[0m\n\u001b[0m\u001b[1;32m    705\u001b[0m         )\n\u001b[1;32m    706\u001b[0m \u001b[0;34m\u001b[0m\u001b[0m\n",
            "\u001b[0;32m/usr/local/lib/python3.7/dist-packages/ipykernel/kernelbase.py\u001b[0m in \u001b[0;36m_input_request\u001b[0;34m(self, prompt, ident, parent, password)\u001b[0m\n\u001b[1;32m    732\u001b[0m             \u001b[0;32mexcept\u001b[0m \u001b[0mKeyboardInterrupt\u001b[0m\u001b[0;34m:\u001b[0m\u001b[0;34m\u001b[0m\u001b[0;34m\u001b[0m\u001b[0m\n\u001b[1;32m    733\u001b[0m                 \u001b[0;31m# re-raise KeyboardInterrupt, to truncate traceback\u001b[0m\u001b[0;34m\u001b[0m\u001b[0;34m\u001b[0m\u001b[0;34m\u001b[0m\u001b[0m\n\u001b[0;32m--> 734\u001b[0;31m                 \u001b[0;32mraise\u001b[0m \u001b[0mKeyboardInterrupt\u001b[0m\u001b[0;34m\u001b[0m\u001b[0;34m\u001b[0m\u001b[0m\n\u001b[0m\u001b[1;32m    735\u001b[0m             \u001b[0;32melse\u001b[0m\u001b[0;34m:\u001b[0m\u001b[0;34m\u001b[0m\u001b[0;34m\u001b[0m\u001b[0m\n\u001b[1;32m    736\u001b[0m                 \u001b[0;32mbreak\u001b[0m\u001b[0;34m\u001b[0m\u001b[0;34m\u001b[0m\u001b[0m\n",
            "\u001b[0;31mKeyboardInterrupt\u001b[0m: "
          ]
        }
      ],
      "source": [
        "flag=True\n",
        "print('--------------------------------------------------------------------------------------------------------------------')\n",
        "print(\"\\t\\t\\t NON-EMERGENCY POLICE ASSISTANCE LINE\")\n",
        "print('\\t')\n",
        "print(\"To continue, please type one's of the followings options or chat with the assistance for more help\")\n",
        "print('\\t')\n",
        "print(\"\\t 1. Vehicle\")\n",
        "print(\"\\t 2. Noise\")\n",
        "print(\"\\t 3. Neighbor\")\n",
        "print('\\t')\n",
        "print(\"BOT: Greetings, Citizen! What's your concern?\")\n",
        "\n",
        "while(flag==True):\n",
        "    user_response = input()\n",
        "    user_response=user_response.lower()\n",
        "    if(user_response!='bye'):\n",
        "        if(user_response=='thanks' or user_response=='thank you'):\n",
        "            print(\"\\nBOT: You are welcome... Can I help you with something else? (Yes / No)\")\n",
        "            user_response = input()\n",
        "            user_response=user_response.lower()\n",
        "\n",
        "            if(user_response == 'yes' or user_response == 'y'):\n",
        "              print(\"\\nBOT: Tell me please: how can I help you?\\n\",end=\"\")\n",
        "              flag=True\n",
        "            else:\n",
        "              print(\"\\nBOT: OK! It was a pleasure serving you, see you soon.\")\n",
        "\n",
        "              flag=False\n",
        "        \n",
        "      \n",
        "        else:\n",
        "            if(greeting(user_response)!=None):\n",
        "                print('\\t\\t')\n",
        "                print(\"BOT: \"+greeting(user_response))\n",
        "            else:\n",
        "                print('\\t\\t')\n",
        "                output=response(user_response)\n",
        "                #print(response(user_response), end=\"\")\n",
        "                print(output)\n",
        "\n",
        "                if (output == \"BOT: Option detected - oh!, this is an emergency matter, please call #911.\"):\n",
        "                  print(\"BOT: Sorry, I can only attend NON-EMERGENCIES, do you want to try again? (Yes / No)\")\n",
        "                  user_response = input()\n",
        "                  user_response=user_response.lower()\n",
        "\n",
        "                  if(user_response == 'yes' or user_response == 'y'):\n",
        "                    print(\"\\nBOT: Tell me please: What's your concern?\\n\",end=\"\")\n",
        "                    flag=True\n",
        "                  else:\n",
        "                    print(\"\\nBOT: OK! It was a pleasure serving you, see you soon.\")\n",
        "                    flag=False\n",
        "\n",
        "                if (output == \"BOT: Sorry, I have been trained to deal with NON-EMERGENCY cases, please describe your concern:\"):\n",
        "                  flag=True\n",
        "\n",
        "                else:\n",
        "                  print(\"BOT: Do you want to continue? (Yes / No)\")\n",
        "                  user_response = input()\n",
        "                  user_response=user_response.lower()\n",
        "\n",
        "                  if(user_response == 'yes' or user_response == 'y'):\n",
        "                    New_File = output\n",
        "                    New_File = New_File[23:]\n",
        "                    New_File = New_File[0:len(New_File)-1]\n",
        "                    New_File = str(New_File)\n",
        "                    print('---------------------------------------------------------------------------------------------------------------------')\n",
        "                    print(\"\\t\\t      ASSISTANCE FOR THE NON-URGENT CASE: \", New_File.upper())\n",
        "\n",
        "                    if New_File == 'vehicle':\n",
        "                      New_File = vehicle\n",
        "                      len_New_File = len(New_File)\n",
        "                      print(\"\\t\\t\\t\", len_New_File, 'Categories have been detected')\n",
        "                      Category = [\"Speeding\", \"Stoplights\", \"Congestion\", \"Drag Racing\",\"Specific Lane Violation\",\n",
        "                                  \"Fire Hydrant\", \"Blocked Sidewalk\", \"Commercial Overnight\", \"Double-parked\",\n",
        "                                  \"Posted sign\", \"Driveway\", \"Derelict Vehicle with plates\", \"Derelict Vehicle without plates\",\n",
        "                                  \"Engine\", \"Horn\"]\n",
        "\n",
        "                    else:\n",
        "                      if New_File == 'noise':\n",
        "                        New_File = noise\n",
        "                        len_New_File = len(New_File)\n",
        "                        print(\"\\t\\t\\t\", len_New_File, 'Categories have been detected')\n",
        "                        Category = [\"Music\", \"Fireworks\", \"Voice\", \"Banging\",\"Engine\", \"Horn\"]\n",
        "\n",
        "                      else: \n",
        "                        if New_File == 'neighbor':\n",
        "                          New_File = neighbor\n",
        "                          len_New_File = len(New_File)\n",
        "                          print(\"\\t\\t\\t\", len_New_File, 'Categories have been detected')\n",
        "                          Category = [\"Chained Up\", \"In car\", \"Neglect\", \"No shelter\",\"Torture\",\n",
        "                                      \"Posting Ads (on cars)\", \"Unlicensed vending\", \"Prohibited vending\", \"In public\",\n",
        "                                      \"After hours\", \"Public Urination\", \"Encampment\", \"Panhandling\",\n",
        "                                      \"Curfew\", \"Truancy\", \"Graffiti\", \"Underage Drinking\"]\n",
        "\n",
        "                    # Tokenization of each document\n",
        "                    tokenized_sent = []\n",
        "                    for s in New_File:\n",
        "                        tokenized_sent.append(word_tokenize(s.lower()))\n",
        "                    \n",
        "                    tagged_data = [TaggedDocument(d, [i]) for i, d in enumerate(tokenized_sent)]\n",
        "\n",
        "                    ## Train doc2vec model\n",
        "                    model = Doc2Vec(tagged_data, vector_size = 20, window = 2, min_count = 1, epochs = 1000)\n",
        "                    ## Print model vocabulary\n",
        "                    model.wv.vocab\n",
        "\n",
        "                    print(\"\\nBOT: Describe in detail how the events occurred: \")\n",
        "                    user_response = input()\n",
        "                    user_response=user_response.lower()\n",
        "                    test_doc = word_tokenize(user_response)\n",
        "                    test_doc_vector = model.infer_vector(test_doc)\n",
        "                    model.docvecs.most_similar(positive = [test_doc_vector])\n",
        "\n",
        "                    Output = model.docvecs.most_similar(positive = [test_doc_vector])\n",
        "                    Top3 = Output[0:3]\n",
        "                    Names = [Category[Top3[0][0]],Category[Top3[1][0]],Category[Top3[2][0]]]\n",
        "                    Porcentages = [float(Top3[0][1]),float(Top3[1][1]),float(Top3[2][1])]\n",
        "\n",
        "                    print(\"\\n\")\n",
        "                    plt.bar(range(3), Porcentages, edgecolor='black')\n",
        "                    plt.xticks(range(3), Names, rotation=60)\n",
        "                    plt.title(\"TOP 3: CATEGORIES FOUND\")\n",
        "                    plt.ylim(0, 1)\n",
        "                    plt.show()\n",
        "                    \n",
        "                    print(\"\\n\")\n",
        "                    print(\"1.- \", Category[Top3[0][0]],\"\\t\", (Top3[0][1])*100, \"%\")\n",
        "                    print(\"2.- \", Category[Top3[1][0]],\"\\t\", (Top3[1][1])*100, \"%\")\n",
        "                    print(\"3.- \", Category[Top3[2][0]],\"\\t\", (Top3[2][1])*100, \"%\")\n",
        "\n",
        "                    print('\\n---------------------------------------------------------------------------------------------------------------------')\n",
        "                    print(\"\\nBOT: To communicate with the department of \", Category[Top3[0][0]].upper(), \"click on the following link: https:www.police.com\")\n",
        "                    print(\"BOT: Do you want to try again? (Yes / No)\")\n",
        "                    user_response = input()\n",
        "                    user_response=user_response.lower()\n",
        "                    if(user_response == 'yes' or user_response == 'y'):\n",
        "                      print(\"\\nBOT: Tell me please: What's your concern?\\n\",end=\"\")\n",
        "                      flag=True\n",
        "                    else:\n",
        "                      print(\"\\nBOT: OK! It was a pleasure serving you, see you soon.\")\n",
        "                      flag=False\n",
        "                  else:\n",
        "                    print(\"\\nBOT: OK!, no problem, let's try again: What's your concern?\")\n",
        "                    flag=True\n",
        "                  #sent_tokens.remove(user_response)\n",
        "    else:\n",
        "        flag=False\n",
        "        print(\"\\nBOT: Bye! It was a pleasure serving you, see you soon.\")"
      ]
    }
  ],
  "metadata": {
    "colab": {
      "collapsed_sections": [],
      "name": "EmbeddingPoliceAssistance.ipynb",
      "provenance": [],
      "mount_file_id": "1A_WN0qJfogX_d6x_5m6ZwkEWZJApMAZx",
      "authorship_tag": "ABX9TyP8ioRQOpGQRRX3h+CgZ89h"
    },
    "kernelspec": {
      "display_name": "Python 3",
      "name": "python3"
    },
    "language_info": {
      "name": "python"
    }
  },
  "nbformat": 4,
  "nbformat_minor": 0
}