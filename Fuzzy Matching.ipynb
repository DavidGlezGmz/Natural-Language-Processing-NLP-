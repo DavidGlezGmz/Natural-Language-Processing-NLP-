{
  "nbformat": 4,
  "nbformat_minor": 0,
  "metadata": {
    "colab": {
      "name": "Vectorizing_Clusteting_and_fuzzymatching_sample_Rev2.ipynb",
      "provenance": [],
      "collapsed_sections": []
    },
    "kernelspec": {
      "name": "python3",
      "display_name": "Python 3"
    },
    "language_info": {
      "name": "python"
    }
  },
  "cells": [
    {
      "cell_type": "code",
      "source": [
        "pip install fuzzywuzzy"
      ],
      "metadata": {
        "colab": {
          "base_uri": "https://localhost:8080/"
        },
        "id": "QcqDsOM4F-f7",
        "outputId": "a98e22c8-bff5-4c6b-fe7b-8b7da4e1440d"
      },
      "execution_count": 1,
      "outputs": [
        {
          "output_type": "stream",
          "name": "stdout",
          "text": [
            "Looking in indexes: https://pypi.org/simple, https://us-python.pkg.dev/colab-wheels/public/simple/\n",
            "Collecting fuzzywuzzy\n",
            "  Downloading fuzzywuzzy-0.18.0-py2.py3-none-any.whl (18 kB)\n",
            "Installing collected packages: fuzzywuzzy\n",
            "Successfully installed fuzzywuzzy-0.18.0\n"
          ]
        }
      ]
    },
    {
      "cell_type": "code",
      "source": [
        "import os\n",
        "import pandas as pd\n",
        "import numpy as np\n",
        "from fuzzywuzzy import fuzz\n",
        "from fuzzywuzzy import process\n",
        "import spacy\n",
        "from matplotlib import pyplot as plt\n",
        "from sklearn .feature_extraction.text import *"
      ],
      "metadata": {
        "id": "elCAPm-HkOpE",
        "outputId": "25af4926-e314-4213-fb32-d6cfc5890bcc",
        "colab": {
          "base_uri": "https://localhost:8080/"
        }
      },
      "execution_count": 2,
      "outputs": [
        {
          "output_type": "stream",
          "name": "stderr",
          "text": [
            "/usr/local/lib/python3.7/dist-packages/fuzzywuzzy/fuzz.py:11: UserWarning: Using slow pure-python SequenceMatcher. Install python-Levenshtein to remove this warning\n",
            "  warnings.warn('Using slow pure-python SequenceMatcher. Install python-Levenshtein to remove this warning')\n"
          ]
        }
      ]
    },
    {
      "cell_type": "code",
      "source": [
        "df=pd.read_csv('https://raw.githubusercontent.com/DavidGlezGmz/Natural-Language-Processing-NLP-/main/Fuzzy%20Matching%20Raw%20Data.csv')\n",
        "matching_brands={'Brands':['Coca-Cola','Amazon','Scientist']}\n",
        "matches=pd.DataFrame(matching_brands)"
      ],
      "metadata": {
        "id": "vDDt-QChkBJA"
      },
      "execution_count": 3,
      "outputs": []
    },
    {
      "cell_type": "code",
      "source": [
        "data=df['Data'].tolist()\n",
        "match=matches['Brands'].tolist()"
      ],
      "metadata": {
        "id": "3NNeYs9_lUW0"
      },
      "execution_count": 4,
      "outputs": []
    },
    {
      "cell_type": "code",
      "source": [
        "match"
      ],
      "metadata": {
        "colab": {
          "base_uri": "https://localhost:8080/"
        },
        "id": "978rYzNOlzFc",
        "outputId": "04969c2b-a165-4ed7-ca7f-eb360ef9ac33"
      },
      "execution_count": 5,
      "outputs": [
        {
          "output_type": "execute_result",
          "data": {
            "text/plain": [
              "['Coca-Cola', 'Amazon', 'Scientist']"
            ]
          },
          "metadata": {},
          "execution_count": 5
        }
      ]
    },
    {
      "cell_type": "code",
      "source": [
        "threshold=80"
      ],
      "metadata": {
        "id": "QLd10NTKle5X"
      },
      "execution_count": 6,
      "outputs": []
    },
    {
      "cell_type": "code",
      "source": [
        "mat=[]\n",
        "for dta in data:\n",
        "  mat.append(process.extract(dta,match,limit=1))\n",
        "df['Matches']=mat\n",
        "\n",
        "df"
      ],
      "metadata": {
        "colab": {
          "base_uri": "https://localhost:8080/",
          "height": 424
        },
        "id": "ej3_XuXuljQg",
        "outputId": "b3dcb6ec-4e3c-4719-eeb7-fde31ae11132"
      },
      "execution_count": 7,
      "outputs": [
        {
          "output_type": "execute_result",
          "data": {
            "text/plain": [
              "           Data            Matches\n",
              "0    amazon.com     [(Amazon, 90)]\n",
              "1   ammazon.com     [(Amazon, 75)]\n",
              "2    amizon.com     [(Amazon, 75)]\n",
              "3   amazzon.com     [(Amazon, 75)]\n",
              "4    amazon.clm     [(Amazon, 90)]\n",
              "..          ...                ...\n",
              "58   cocaa-cola  [(Coca-Cola, 95)]\n",
              "59     cokacola  [(Coca-Cola, 82)]\n",
              "60     cokacoal  [(Coca-Cola, 71)]\n",
              "61   cocoa-cola  [(Coca-Cola, 95)]\n",
              "62     cocacloa  [(Coca-Cola, 82)]\n",
              "\n",
              "[63 rows x 2 columns]"
            ],
            "text/html": [
              "\n",
              "  <div id=\"df-acc75ec7-cd4b-453e-90e3-0c98fe686d97\">\n",
              "    <div class=\"colab-df-container\">\n",
              "      <div>\n",
              "<style scoped>\n",
              "    .dataframe tbody tr th:only-of-type {\n",
              "        vertical-align: middle;\n",
              "    }\n",
              "\n",
              "    .dataframe tbody tr th {\n",
              "        vertical-align: top;\n",
              "    }\n",
              "\n",
              "    .dataframe thead th {\n",
              "        text-align: right;\n",
              "    }\n",
              "</style>\n",
              "<table border=\"1\" class=\"dataframe\">\n",
              "  <thead>\n",
              "    <tr style=\"text-align: right;\">\n",
              "      <th></th>\n",
              "      <th>Data</th>\n",
              "      <th>Matches</th>\n",
              "    </tr>\n",
              "  </thead>\n",
              "  <tbody>\n",
              "    <tr>\n",
              "      <th>0</th>\n",
              "      <td>amazon.com</td>\n",
              "      <td>[(Amazon, 90)]</td>\n",
              "    </tr>\n",
              "    <tr>\n",
              "      <th>1</th>\n",
              "      <td>ammazon.com</td>\n",
              "      <td>[(Amazon, 75)]</td>\n",
              "    </tr>\n",
              "    <tr>\n",
              "      <th>2</th>\n",
              "      <td>amizon.com</td>\n",
              "      <td>[(Amazon, 75)]</td>\n",
              "    </tr>\n",
              "    <tr>\n",
              "      <th>3</th>\n",
              "      <td>amazzon.com</td>\n",
              "      <td>[(Amazon, 75)]</td>\n",
              "    </tr>\n",
              "    <tr>\n",
              "      <th>4</th>\n",
              "      <td>amazon.clm</td>\n",
              "      <td>[(Amazon, 90)]</td>\n",
              "    </tr>\n",
              "    <tr>\n",
              "      <th>...</th>\n",
              "      <td>...</td>\n",
              "      <td>...</td>\n",
              "    </tr>\n",
              "    <tr>\n",
              "      <th>58</th>\n",
              "      <td>cocaa-cola</td>\n",
              "      <td>[(Coca-Cola, 95)]</td>\n",
              "    </tr>\n",
              "    <tr>\n",
              "      <th>59</th>\n",
              "      <td>cokacola</td>\n",
              "      <td>[(Coca-Cola, 82)]</td>\n",
              "    </tr>\n",
              "    <tr>\n",
              "      <th>60</th>\n",
              "      <td>cokacoal</td>\n",
              "      <td>[(Coca-Cola, 71)]</td>\n",
              "    </tr>\n",
              "    <tr>\n",
              "      <th>61</th>\n",
              "      <td>cocoa-cola</td>\n",
              "      <td>[(Coca-Cola, 95)]</td>\n",
              "    </tr>\n",
              "    <tr>\n",
              "      <th>62</th>\n",
              "      <td>cocacloa</td>\n",
              "      <td>[(Coca-Cola, 82)]</td>\n",
              "    </tr>\n",
              "  </tbody>\n",
              "</table>\n",
              "<p>63 rows × 2 columns</p>\n",
              "</div>\n",
              "      <button class=\"colab-df-convert\" onclick=\"convertToInteractive('df-acc75ec7-cd4b-453e-90e3-0c98fe686d97')\"\n",
              "              title=\"Convert this dataframe to an interactive table.\"\n",
              "              style=\"display:none;\">\n",
              "        \n",
              "  <svg xmlns=\"http://www.w3.org/2000/svg\" height=\"24px\"viewBox=\"0 0 24 24\"\n",
              "       width=\"24px\">\n",
              "    <path d=\"M0 0h24v24H0V0z\" fill=\"none\"/>\n",
              "    <path d=\"M18.56 5.44l.94 2.06.94-2.06 2.06-.94-2.06-.94-.94-2.06-.94 2.06-2.06.94zm-11 1L8.5 8.5l.94-2.06 2.06-.94-2.06-.94L8.5 2.5l-.94 2.06-2.06.94zm10 10l.94 2.06.94-2.06 2.06-.94-2.06-.94-.94-2.06-.94 2.06-2.06.94z\"/><path d=\"M17.41 7.96l-1.37-1.37c-.4-.4-.92-.59-1.43-.59-.52 0-1.04.2-1.43.59L10.3 9.45l-7.72 7.72c-.78.78-.78 2.05 0 2.83L4 21.41c.39.39.9.59 1.41.59.51 0 1.02-.2 1.41-.59l7.78-7.78 2.81-2.81c.8-.78.8-2.07 0-2.86zM5.41 20L4 18.59l7.72-7.72 1.47 1.35L5.41 20z\"/>\n",
              "  </svg>\n",
              "      </button>\n",
              "      \n",
              "  <style>\n",
              "    .colab-df-container {\n",
              "      display:flex;\n",
              "      flex-wrap:wrap;\n",
              "      gap: 12px;\n",
              "    }\n",
              "\n",
              "    .colab-df-convert {\n",
              "      background-color: #E8F0FE;\n",
              "      border: none;\n",
              "      border-radius: 50%;\n",
              "      cursor: pointer;\n",
              "      display: none;\n",
              "      fill: #1967D2;\n",
              "      height: 32px;\n",
              "      padding: 0 0 0 0;\n",
              "      width: 32px;\n",
              "    }\n",
              "\n",
              "    .colab-df-convert:hover {\n",
              "      background-color: #E2EBFA;\n",
              "      box-shadow: 0px 1px 2px rgba(60, 64, 67, 0.3), 0px 1px 3px 1px rgba(60, 64, 67, 0.15);\n",
              "      fill: #174EA6;\n",
              "    }\n",
              "\n",
              "    [theme=dark] .colab-df-convert {\n",
              "      background-color: #3B4455;\n",
              "      fill: #D2E3FC;\n",
              "    }\n",
              "\n",
              "    [theme=dark] .colab-df-convert:hover {\n",
              "      background-color: #434B5C;\n",
              "      box-shadow: 0px 1px 3px 1px rgba(0, 0, 0, 0.15);\n",
              "      filter: drop-shadow(0px 1px 2px rgba(0, 0, 0, 0.3));\n",
              "      fill: #FFFFFF;\n",
              "    }\n",
              "  </style>\n",
              "\n",
              "      <script>\n",
              "        const buttonEl =\n",
              "          document.querySelector('#df-acc75ec7-cd4b-453e-90e3-0c98fe686d97 button.colab-df-convert');\n",
              "        buttonEl.style.display =\n",
              "          google.colab.kernel.accessAllowed ? 'block' : 'none';\n",
              "\n",
              "        async function convertToInteractive(key) {\n",
              "          const element = document.querySelector('#df-acc75ec7-cd4b-453e-90e3-0c98fe686d97');\n",
              "          const dataTable =\n",
              "            await google.colab.kernel.invokeFunction('convertToInteractive',\n",
              "                                                     [key], {});\n",
              "          if (!dataTable) return;\n",
              "\n",
              "          const docLinkHtml = 'Like what you see? Visit the ' +\n",
              "            '<a target=\"_blank\" href=https://colab.research.google.com/notebooks/data_table.ipynb>data table notebook</a>'\n",
              "            + ' to learn more about interactive tables.';\n",
              "          element.innerHTML = '';\n",
              "          dataTable['output_type'] = 'display_data';\n",
              "          await google.colab.output.renderOutput(dataTable, element);\n",
              "          const docLink = document.createElement('div');\n",
              "          docLink.innerHTML = docLinkHtml;\n",
              "          element.appendChild(docLink);\n",
              "        }\n",
              "      </script>\n",
              "    </div>\n",
              "  </div>\n",
              "  "
            ]
          },
          "metadata": {},
          "execution_count": 7
        }
      ]
    },
    {
      "cell_type": "code",
      "source": [
        "inter_mathcing=[]\n",
        "\n",
        "for dta in data:\n",
        "  inter_mathcing.append((process.extract(dta,data,limit=len(df))))\n",
        "df['Internal Matches']=inter_mathcing"
      ],
      "metadata": {
        "id": "l0NwpIdSJZ4j"
      },
      "execution_count": 8,
      "outputs": []
    },
    {
      "cell_type": "code",
      "source": [
        "df"
      ],
      "metadata": {
        "colab": {
          "base_uri": "https://localhost:8080/",
          "height": 424
        },
        "id": "mNAjYGnGKfKg",
        "outputId": "c3bef10d-2ace-4b23-9125-c64d6c4d362c"
      },
      "execution_count": 9,
      "outputs": [
        {
          "output_type": "execute_result",
          "data": {
            "text/plain": [
              "           Data            Matches  \\\n",
              "0    amazon.com     [(Amazon, 90)]   \n",
              "1   ammazon.com     [(Amazon, 75)]   \n",
              "2    amizon.com     [(Amazon, 75)]   \n",
              "3   amazzon.com     [(Amazon, 75)]   \n",
              "4    amazon.clm     [(Amazon, 90)]   \n",
              "..          ...                ...   \n",
              "58   cocaa-cola  [(Coca-Cola, 95)]   \n",
              "59     cokacola  [(Coca-Cola, 82)]   \n",
              "60     cokacoal  [(Coca-Cola, 71)]   \n",
              "61   cocoa-cola  [(Coca-Cola, 95)]   \n",
              "62     cocacloa  [(Coca-Cola, 82)]   \n",
              "\n",
              "                                     Internal Matches  \n",
              "0   [(amazon.com, 100), (ammazon.com, 95), (amazzo...  \n",
              "1   [(ammazon.com, 100), (amazon.com, 95), (amazzo...  \n",
              "2   [(amizon.com, 100), (amazon.com, 90), (amezon....  \n",
              "3   [(amazzon.com, 100), (amazon.com, 95), (ammazo...  \n",
              "4   [(amazon.clm, 100), (amazon.com, 90), (amaozn....  \n",
              "..                                                ...  \n",
              "58  [(cocaa-cola, 100), (coca-cola, 95), (cocca-co...  \n",
              "59  [(cokacola, 100), (coka-cola, 94), (cooka-cola...  \n",
              "60  [(cokacoal, 100), (coka-coal, 94), (cooka-coal...  \n",
              "61  [(cocoa-cola, 100), (coca-cola, 95), (coco-col...  \n",
              "62  [(cocacloa, 100), (cocacola, 88), (cocacoal, 8...  \n",
              "\n",
              "[63 rows x 3 columns]"
            ],
            "text/html": [
              "\n",
              "  <div id=\"df-27862ae6-e5ef-4d01-8aa6-da8a7a7f4253\">\n",
              "    <div class=\"colab-df-container\">\n",
              "      <div>\n",
              "<style scoped>\n",
              "    .dataframe tbody tr th:only-of-type {\n",
              "        vertical-align: middle;\n",
              "    }\n",
              "\n",
              "    .dataframe tbody tr th {\n",
              "        vertical-align: top;\n",
              "    }\n",
              "\n",
              "    .dataframe thead th {\n",
              "        text-align: right;\n",
              "    }\n",
              "</style>\n",
              "<table border=\"1\" class=\"dataframe\">\n",
              "  <thead>\n",
              "    <tr style=\"text-align: right;\">\n",
              "      <th></th>\n",
              "      <th>Data</th>\n",
              "      <th>Matches</th>\n",
              "      <th>Internal Matches</th>\n",
              "    </tr>\n",
              "  </thead>\n",
              "  <tbody>\n",
              "    <tr>\n",
              "      <th>0</th>\n",
              "      <td>amazon.com</td>\n",
              "      <td>[(Amazon, 90)]</td>\n",
              "      <td>[(amazon.com, 100), (ammazon.com, 95), (amazzo...</td>\n",
              "    </tr>\n",
              "    <tr>\n",
              "      <th>1</th>\n",
              "      <td>ammazon.com</td>\n",
              "      <td>[(Amazon, 75)]</td>\n",
              "      <td>[(ammazon.com, 100), (amazon.com, 95), (amazzo...</td>\n",
              "    </tr>\n",
              "    <tr>\n",
              "      <th>2</th>\n",
              "      <td>amizon.com</td>\n",
              "      <td>[(Amazon, 75)]</td>\n",
              "      <td>[(amizon.com, 100), (amazon.com, 90), (amezon....</td>\n",
              "    </tr>\n",
              "    <tr>\n",
              "      <th>3</th>\n",
              "      <td>amazzon.com</td>\n",
              "      <td>[(Amazon, 75)]</td>\n",
              "      <td>[(amazzon.com, 100), (amazon.com, 95), (ammazo...</td>\n",
              "    </tr>\n",
              "    <tr>\n",
              "      <th>4</th>\n",
              "      <td>amazon.clm</td>\n",
              "      <td>[(Amazon, 90)]</td>\n",
              "      <td>[(amazon.clm, 100), (amazon.com, 90), (amaozn....</td>\n",
              "    </tr>\n",
              "    <tr>\n",
              "      <th>...</th>\n",
              "      <td>...</td>\n",
              "      <td>...</td>\n",
              "      <td>...</td>\n",
              "    </tr>\n",
              "    <tr>\n",
              "      <th>58</th>\n",
              "      <td>cocaa-cola</td>\n",
              "      <td>[(Coca-Cola, 95)]</td>\n",
              "      <td>[(cocaa-cola, 100), (coca-cola, 95), (cocca-co...</td>\n",
              "    </tr>\n",
              "    <tr>\n",
              "      <th>59</th>\n",
              "      <td>cokacola</td>\n",
              "      <td>[(Coca-Cola, 82)]</td>\n",
              "      <td>[(cokacola, 100), (coka-cola, 94), (cooka-cola...</td>\n",
              "    </tr>\n",
              "    <tr>\n",
              "      <th>60</th>\n",
              "      <td>cokacoal</td>\n",
              "      <td>[(Coca-Cola, 71)]</td>\n",
              "      <td>[(cokacoal, 100), (coka-coal, 94), (cooka-coal...</td>\n",
              "    </tr>\n",
              "    <tr>\n",
              "      <th>61</th>\n",
              "      <td>cocoa-cola</td>\n",
              "      <td>[(Coca-Cola, 95)]</td>\n",
              "      <td>[(cocoa-cola, 100), (coca-cola, 95), (coco-col...</td>\n",
              "    </tr>\n",
              "    <tr>\n",
              "      <th>62</th>\n",
              "      <td>cocacloa</td>\n",
              "      <td>[(Coca-Cola, 82)]</td>\n",
              "      <td>[(cocacloa, 100), (cocacola, 88), (cocacoal, 8...</td>\n",
              "    </tr>\n",
              "  </tbody>\n",
              "</table>\n",
              "<p>63 rows × 3 columns</p>\n",
              "</div>\n",
              "      <button class=\"colab-df-convert\" onclick=\"convertToInteractive('df-27862ae6-e5ef-4d01-8aa6-da8a7a7f4253')\"\n",
              "              title=\"Convert this dataframe to an interactive table.\"\n",
              "              style=\"display:none;\">\n",
              "        \n",
              "  <svg xmlns=\"http://www.w3.org/2000/svg\" height=\"24px\"viewBox=\"0 0 24 24\"\n",
              "       width=\"24px\">\n",
              "    <path d=\"M0 0h24v24H0V0z\" fill=\"none\"/>\n",
              "    <path d=\"M18.56 5.44l.94 2.06.94-2.06 2.06-.94-2.06-.94-.94-2.06-.94 2.06-2.06.94zm-11 1L8.5 8.5l.94-2.06 2.06-.94-2.06-.94L8.5 2.5l-.94 2.06-2.06.94zm10 10l.94 2.06.94-2.06 2.06-.94-2.06-.94-.94-2.06-.94 2.06-2.06.94z\"/><path d=\"M17.41 7.96l-1.37-1.37c-.4-.4-.92-.59-1.43-.59-.52 0-1.04.2-1.43.59L10.3 9.45l-7.72 7.72c-.78.78-.78 2.05 0 2.83L4 21.41c.39.39.9.59 1.41.59.51 0 1.02-.2 1.41-.59l7.78-7.78 2.81-2.81c.8-.78.8-2.07 0-2.86zM5.41 20L4 18.59l7.72-7.72 1.47 1.35L5.41 20z\"/>\n",
              "  </svg>\n",
              "      </button>\n",
              "      \n",
              "  <style>\n",
              "    .colab-df-container {\n",
              "      display:flex;\n",
              "      flex-wrap:wrap;\n",
              "      gap: 12px;\n",
              "    }\n",
              "\n",
              "    .colab-df-convert {\n",
              "      background-color: #E8F0FE;\n",
              "      border: none;\n",
              "      border-radius: 50%;\n",
              "      cursor: pointer;\n",
              "      display: none;\n",
              "      fill: #1967D2;\n",
              "      height: 32px;\n",
              "      padding: 0 0 0 0;\n",
              "      width: 32px;\n",
              "    }\n",
              "\n",
              "    .colab-df-convert:hover {\n",
              "      background-color: #E2EBFA;\n",
              "      box-shadow: 0px 1px 2px rgba(60, 64, 67, 0.3), 0px 1px 3px 1px rgba(60, 64, 67, 0.15);\n",
              "      fill: #174EA6;\n",
              "    }\n",
              "\n",
              "    [theme=dark] .colab-df-convert {\n",
              "      background-color: #3B4455;\n",
              "      fill: #D2E3FC;\n",
              "    }\n",
              "\n",
              "    [theme=dark] .colab-df-convert:hover {\n",
              "      background-color: #434B5C;\n",
              "      box-shadow: 0px 1px 3px 1px rgba(0, 0, 0, 0.15);\n",
              "      filter: drop-shadow(0px 1px 2px rgba(0, 0, 0, 0.3));\n",
              "      fill: #FFFFFF;\n",
              "    }\n",
              "  </style>\n",
              "\n",
              "      <script>\n",
              "        const buttonEl =\n",
              "          document.querySelector('#df-27862ae6-e5ef-4d01-8aa6-da8a7a7f4253 button.colab-df-convert');\n",
              "        buttonEl.style.display =\n",
              "          google.colab.kernel.accessAllowed ? 'block' : 'none';\n",
              "\n",
              "        async function convertToInteractive(key) {\n",
              "          const element = document.querySelector('#df-27862ae6-e5ef-4d01-8aa6-da8a7a7f4253');\n",
              "          const dataTable =\n",
              "            await google.colab.kernel.invokeFunction('convertToInteractive',\n",
              "                                                     [key], {});\n",
              "          if (!dataTable) return;\n",
              "\n",
              "          const docLinkHtml = 'Like what you see? Visit the ' +\n",
              "            '<a target=\"_blank\" href=https://colab.research.google.com/notebooks/data_table.ipynb>data table notebook</a>'\n",
              "            + ' to learn more about interactive tables.';\n",
              "          element.innerHTML = '';\n",
              "          dataTable['output_type'] = 'display_data';\n",
              "          await google.colab.output.renderOutput(dataTable, element);\n",
              "          const docLink = document.createElement('div');\n",
              "          docLink.innerHTML = docLinkHtml;\n",
              "          element.appendChild(docLink);\n",
              "        }\n",
              "      </script>\n",
              "    </div>\n",
              "  </div>\n",
              "  "
            ]
          },
          "metadata": {},
          "execution_count": 9
        }
      ]
    },
    {
      "cell_type": "code",
      "source": [
        "df['Internal Matches'][0][0][0]"
      ],
      "metadata": {
        "colab": {
          "base_uri": "https://localhost:8080/",
          "height": 36
        },
        "id": "c4sq45JwVEwN",
        "outputId": "60edef79-c50e-4dcc-cd28-fc8cbd462d13"
      },
      "execution_count": 10,
      "outputs": [
        {
          "output_type": "execute_result",
          "data": {
            "text/plain": [
              "'amazon.com'"
            ],
            "application/vnd.google.colaboratory.intrinsic+json": {
              "type": "string"
            }
          },
          "metadata": {},
          "execution_count": 10
        }
      ]
    },
    {
      "cell_type": "code",
      "source": [
        "df.columns"
      ],
      "metadata": {
        "colab": {
          "base_uri": "https://localhost:8080/"
        },
        "id": "XZkGIOFRW6VB",
        "outputId": "3f42400f-9946-4387-aded-b71fec897a11"
      },
      "execution_count": 11,
      "outputs": [
        {
          "output_type": "execute_result",
          "data": {
            "text/plain": [
              "Index(['Data', 'Matches', 'Internal Matches'], dtype='object')"
            ]
          },
          "metadata": {},
          "execution_count": 11
        }
      ]
    },
    {
      "cell_type": "code",
      "source": [
        "import nltk\n",
        "import difflib\n",
        "\n",
        "\n",
        "nltk.edit_distance(\"humpty\", \"dumpty\")\n",
        "\n",
        "\n",
        "C = []\n",
        "\n",
        "for i in range (len(data)):\n",
        "  count = -1\n",
        "  for j in range (len(data)):\n",
        "    a = data[j]\n",
        "    b = data[i]\n",
        "    seq = difflib.SequenceMatcher(None,a,b)\n",
        "    d = int(seq.ratio()*100)\n",
        "\n",
        "    if d>=80:\n",
        "      count += 1\n",
        "\n",
        "    #print(data[i], d) \n",
        "\n",
        "\n",
        "  C.append(count)\n",
        "\n",
        "df['Count']=C"
      ],
      "metadata": {
        "id": "Yvs4yiA8Drt1"
      },
      "execution_count": 12,
      "outputs": []
    },
    {
      "cell_type": "code",
      "source": [
        "df"
      ],
      "metadata": {
        "colab": {
          "base_uri": "https://localhost:8080/",
          "height": 424
        },
        "id": "MWrE-p2BEB3l",
        "outputId": "0e27e393-4164-485b-d125-a5f0485f3839"
      },
      "execution_count": 13,
      "outputs": [
        {
          "output_type": "execute_result",
          "data": {
            "text/plain": [
              "           Data            Matches  \\\n",
              "0    amazon.com     [(Amazon, 90)]   \n",
              "1   ammazon.com     [(Amazon, 75)]   \n",
              "2    amizon.com     [(Amazon, 75)]   \n",
              "3   amazzon.com     [(Amazon, 75)]   \n",
              "4    amazon.clm     [(Amazon, 90)]   \n",
              "..          ...                ...   \n",
              "58   cocaa-cola  [(Coca-Cola, 95)]   \n",
              "59     cokacola  [(Coca-Cola, 82)]   \n",
              "60     cokacoal  [(Coca-Cola, 71)]   \n",
              "61   cocoa-cola  [(Coca-Cola, 95)]   \n",
              "62     cocacloa  [(Coca-Cola, 82)]   \n",
              "\n",
              "                                     Internal Matches  Count  \n",
              "0   [(amazon.com, 100), (ammazon.com, 95), (amazzo...     17  \n",
              "1   [(ammazon.com, 100), (amazon.com, 95), (amazzo...     15  \n",
              "2   [(amizon.com, 100), (amazon.com, 90), (amezon....     14  \n",
              "3   [(amazzon.com, 100), (amazon.com, 95), (ammazo...     15  \n",
              "4   [(amazon.clm, 100), (amazon.com, 90), (amaozn....     15  \n",
              "..                                                ...    ...  \n",
              "58  [(cocaa-cola, 100), (coca-cola, 95), (cocca-co...     11  \n",
              "59  [(cokacola, 100), (coka-cola, 94), (cooka-cola...      6  \n",
              "60  [(cokacoal, 100), (coka-coal, 94), (cooka-coal...      7  \n",
              "61  [(cocoa-cola, 100), (coca-cola, 95), (coco-col...     13  \n",
              "62  [(cocacloa, 100), (cocacola, 88), (cocacoal, 8...      6  \n",
              "\n",
              "[63 rows x 4 columns]"
            ],
            "text/html": [
              "\n",
              "  <div id=\"df-b00edf5f-f625-484d-bcdd-aca4d76bcc54\">\n",
              "    <div class=\"colab-df-container\">\n",
              "      <div>\n",
              "<style scoped>\n",
              "    .dataframe tbody tr th:only-of-type {\n",
              "        vertical-align: middle;\n",
              "    }\n",
              "\n",
              "    .dataframe tbody tr th {\n",
              "        vertical-align: top;\n",
              "    }\n",
              "\n",
              "    .dataframe thead th {\n",
              "        text-align: right;\n",
              "    }\n",
              "</style>\n",
              "<table border=\"1\" class=\"dataframe\">\n",
              "  <thead>\n",
              "    <tr style=\"text-align: right;\">\n",
              "      <th></th>\n",
              "      <th>Data</th>\n",
              "      <th>Matches</th>\n",
              "      <th>Internal Matches</th>\n",
              "      <th>Count</th>\n",
              "    </tr>\n",
              "  </thead>\n",
              "  <tbody>\n",
              "    <tr>\n",
              "      <th>0</th>\n",
              "      <td>amazon.com</td>\n",
              "      <td>[(Amazon, 90)]</td>\n",
              "      <td>[(amazon.com, 100), (ammazon.com, 95), (amazzo...</td>\n",
              "      <td>17</td>\n",
              "    </tr>\n",
              "    <tr>\n",
              "      <th>1</th>\n",
              "      <td>ammazon.com</td>\n",
              "      <td>[(Amazon, 75)]</td>\n",
              "      <td>[(ammazon.com, 100), (amazon.com, 95), (amazzo...</td>\n",
              "      <td>15</td>\n",
              "    </tr>\n",
              "    <tr>\n",
              "      <th>2</th>\n",
              "      <td>amizon.com</td>\n",
              "      <td>[(Amazon, 75)]</td>\n",
              "      <td>[(amizon.com, 100), (amazon.com, 90), (amezon....</td>\n",
              "      <td>14</td>\n",
              "    </tr>\n",
              "    <tr>\n",
              "      <th>3</th>\n",
              "      <td>amazzon.com</td>\n",
              "      <td>[(Amazon, 75)]</td>\n",
              "      <td>[(amazzon.com, 100), (amazon.com, 95), (ammazo...</td>\n",
              "      <td>15</td>\n",
              "    </tr>\n",
              "    <tr>\n",
              "      <th>4</th>\n",
              "      <td>amazon.clm</td>\n",
              "      <td>[(Amazon, 90)]</td>\n",
              "      <td>[(amazon.clm, 100), (amazon.com, 90), (amaozn....</td>\n",
              "      <td>15</td>\n",
              "    </tr>\n",
              "    <tr>\n",
              "      <th>...</th>\n",
              "      <td>...</td>\n",
              "      <td>...</td>\n",
              "      <td>...</td>\n",
              "      <td>...</td>\n",
              "    </tr>\n",
              "    <tr>\n",
              "      <th>58</th>\n",
              "      <td>cocaa-cola</td>\n",
              "      <td>[(Coca-Cola, 95)]</td>\n",
              "      <td>[(cocaa-cola, 100), (coca-cola, 95), (cocca-co...</td>\n",
              "      <td>11</td>\n",
              "    </tr>\n",
              "    <tr>\n",
              "      <th>59</th>\n",
              "      <td>cokacola</td>\n",
              "      <td>[(Coca-Cola, 82)]</td>\n",
              "      <td>[(cokacola, 100), (coka-cola, 94), (cooka-cola...</td>\n",
              "      <td>6</td>\n",
              "    </tr>\n",
              "    <tr>\n",
              "      <th>60</th>\n",
              "      <td>cokacoal</td>\n",
              "      <td>[(Coca-Cola, 71)]</td>\n",
              "      <td>[(cokacoal, 100), (coka-coal, 94), (cooka-coal...</td>\n",
              "      <td>7</td>\n",
              "    </tr>\n",
              "    <tr>\n",
              "      <th>61</th>\n",
              "      <td>cocoa-cola</td>\n",
              "      <td>[(Coca-Cola, 95)]</td>\n",
              "      <td>[(cocoa-cola, 100), (coca-cola, 95), (coco-col...</td>\n",
              "      <td>13</td>\n",
              "    </tr>\n",
              "    <tr>\n",
              "      <th>62</th>\n",
              "      <td>cocacloa</td>\n",
              "      <td>[(Coca-Cola, 82)]</td>\n",
              "      <td>[(cocacloa, 100), (cocacola, 88), (cocacoal, 8...</td>\n",
              "      <td>6</td>\n",
              "    </tr>\n",
              "  </tbody>\n",
              "</table>\n",
              "<p>63 rows × 4 columns</p>\n",
              "</div>\n",
              "      <button class=\"colab-df-convert\" onclick=\"convertToInteractive('df-b00edf5f-f625-484d-bcdd-aca4d76bcc54')\"\n",
              "              title=\"Convert this dataframe to an interactive table.\"\n",
              "              style=\"display:none;\">\n",
              "        \n",
              "  <svg xmlns=\"http://www.w3.org/2000/svg\" height=\"24px\"viewBox=\"0 0 24 24\"\n",
              "       width=\"24px\">\n",
              "    <path d=\"M0 0h24v24H0V0z\" fill=\"none\"/>\n",
              "    <path d=\"M18.56 5.44l.94 2.06.94-2.06 2.06-.94-2.06-.94-.94-2.06-.94 2.06-2.06.94zm-11 1L8.5 8.5l.94-2.06 2.06-.94-2.06-.94L8.5 2.5l-.94 2.06-2.06.94zm10 10l.94 2.06.94-2.06 2.06-.94-2.06-.94-.94-2.06-.94 2.06-2.06.94z\"/><path d=\"M17.41 7.96l-1.37-1.37c-.4-.4-.92-.59-1.43-.59-.52 0-1.04.2-1.43.59L10.3 9.45l-7.72 7.72c-.78.78-.78 2.05 0 2.83L4 21.41c.39.39.9.59 1.41.59.51 0 1.02-.2 1.41-.59l7.78-7.78 2.81-2.81c.8-.78.8-2.07 0-2.86zM5.41 20L4 18.59l7.72-7.72 1.47 1.35L5.41 20z\"/>\n",
              "  </svg>\n",
              "      </button>\n",
              "      \n",
              "  <style>\n",
              "    .colab-df-container {\n",
              "      display:flex;\n",
              "      flex-wrap:wrap;\n",
              "      gap: 12px;\n",
              "    }\n",
              "\n",
              "    .colab-df-convert {\n",
              "      background-color: #E8F0FE;\n",
              "      border: none;\n",
              "      border-radius: 50%;\n",
              "      cursor: pointer;\n",
              "      display: none;\n",
              "      fill: #1967D2;\n",
              "      height: 32px;\n",
              "      padding: 0 0 0 0;\n",
              "      width: 32px;\n",
              "    }\n",
              "\n",
              "    .colab-df-convert:hover {\n",
              "      background-color: #E2EBFA;\n",
              "      box-shadow: 0px 1px 2px rgba(60, 64, 67, 0.3), 0px 1px 3px 1px rgba(60, 64, 67, 0.15);\n",
              "      fill: #174EA6;\n",
              "    }\n",
              "\n",
              "    [theme=dark] .colab-df-convert {\n",
              "      background-color: #3B4455;\n",
              "      fill: #D2E3FC;\n",
              "    }\n",
              "\n",
              "    [theme=dark] .colab-df-convert:hover {\n",
              "      background-color: #434B5C;\n",
              "      box-shadow: 0px 1px 3px 1px rgba(0, 0, 0, 0.15);\n",
              "      filter: drop-shadow(0px 1px 2px rgba(0, 0, 0, 0.3));\n",
              "      fill: #FFFFFF;\n",
              "    }\n",
              "  </style>\n",
              "\n",
              "      <script>\n",
              "        const buttonEl =\n",
              "          document.querySelector('#df-b00edf5f-f625-484d-bcdd-aca4d76bcc54 button.colab-df-convert');\n",
              "        buttonEl.style.display =\n",
              "          google.colab.kernel.accessAllowed ? 'block' : 'none';\n",
              "\n",
              "        async function convertToInteractive(key) {\n",
              "          const element = document.querySelector('#df-b00edf5f-f625-484d-bcdd-aca4d76bcc54');\n",
              "          const dataTable =\n",
              "            await google.colab.kernel.invokeFunction('convertToInteractive',\n",
              "                                                     [key], {});\n",
              "          if (!dataTable) return;\n",
              "\n",
              "          const docLinkHtml = 'Like what you see? Visit the ' +\n",
              "            '<a target=\"_blank\" href=https://colab.research.google.com/notebooks/data_table.ipynb>data table notebook</a>'\n",
              "            + ' to learn more about interactive tables.';\n",
              "          element.innerHTML = '';\n",
              "          dataTable['output_type'] = 'display_data';\n",
              "          await google.colab.output.renderOutput(dataTable, element);\n",
              "          const docLink = document.createElement('div');\n",
              "          docLink.innerHTML = docLinkHtml;\n",
              "          element.appendChild(docLink);\n",
              "        }\n",
              "      </script>\n",
              "    </div>\n",
              "  </div>\n",
              "  "
            ]
          },
          "metadata": {},
          "execution_count": 13
        }
      ]
    },
    {
      "cell_type": "code",
      "source": [
        "df.columns\n"
      ],
      "metadata": {
        "colab": {
          "base_uri": "https://localhost:8080/"
        },
        "id": "dgFyjkFcGd9g",
        "outputId": "6758c42c-de4f-4b08-faf0-003cb54d555a"
      },
      "execution_count": 14,
      "outputs": [
        {
          "output_type": "execute_result",
          "data": {
            "text/plain": [
              "Index(['Data', 'Matches', 'Internal Matches', 'Count'], dtype='object')"
            ]
          },
          "metadata": {},
          "execution_count": 14
        }
      ]
    },
    {
      "cell_type": "code",
      "source": [
        "d={'name':[],'count':[],'matches':[],'group':[]}\n",
        "counts_df=pd.DataFrame(data=d)"
      ],
      "metadata": {
        "id": "F-yyI2OEJf5S"
      },
      "execution_count": 15,
      "outputs": []
    },
    {
      "cell_type": "code",
      "source": [
        "counts_df"
      ],
      "metadata": {
        "colab": {
          "base_uri": "https://localhost:8080/",
          "height": 49
        },
        "id": "K7IED6-hNG9k",
        "outputId": "66a4ea11-6e9a-4924-ac58-867090338d15"
      },
      "execution_count": 16,
      "outputs": [
        {
          "output_type": "execute_result",
          "data": {
            "text/plain": [
              "Empty DataFrame\n",
              "Columns: [name, count, matches, group]\n",
              "Index: []"
            ],
            "text/html": [
              "\n",
              "  <div id=\"df-f533b08b-1e5d-40e3-aabf-ed49ee65095f\">\n",
              "    <div class=\"colab-df-container\">\n",
              "      <div>\n",
              "<style scoped>\n",
              "    .dataframe tbody tr th:only-of-type {\n",
              "        vertical-align: middle;\n",
              "    }\n",
              "\n",
              "    .dataframe tbody tr th {\n",
              "        vertical-align: top;\n",
              "    }\n",
              "\n",
              "    .dataframe thead th {\n",
              "        text-align: right;\n",
              "    }\n",
              "</style>\n",
              "<table border=\"1\" class=\"dataframe\">\n",
              "  <thead>\n",
              "    <tr style=\"text-align: right;\">\n",
              "      <th></th>\n",
              "      <th>name</th>\n",
              "      <th>count</th>\n",
              "      <th>matches</th>\n",
              "      <th>group</th>\n",
              "    </tr>\n",
              "  </thead>\n",
              "  <tbody>\n",
              "  </tbody>\n",
              "</table>\n",
              "</div>\n",
              "      <button class=\"colab-df-convert\" onclick=\"convertToInteractive('df-f533b08b-1e5d-40e3-aabf-ed49ee65095f')\"\n",
              "              title=\"Convert this dataframe to an interactive table.\"\n",
              "              style=\"display:none;\">\n",
              "        \n",
              "  <svg xmlns=\"http://www.w3.org/2000/svg\" height=\"24px\"viewBox=\"0 0 24 24\"\n",
              "       width=\"24px\">\n",
              "    <path d=\"M0 0h24v24H0V0z\" fill=\"none\"/>\n",
              "    <path d=\"M18.56 5.44l.94 2.06.94-2.06 2.06-.94-2.06-.94-.94-2.06-.94 2.06-2.06.94zm-11 1L8.5 8.5l.94-2.06 2.06-.94-2.06-.94L8.5 2.5l-.94 2.06-2.06.94zm10 10l.94 2.06.94-2.06 2.06-.94-2.06-.94-.94-2.06-.94 2.06-2.06.94z\"/><path d=\"M17.41 7.96l-1.37-1.37c-.4-.4-.92-.59-1.43-.59-.52 0-1.04.2-1.43.59L10.3 9.45l-7.72 7.72c-.78.78-.78 2.05 0 2.83L4 21.41c.39.39.9.59 1.41.59.51 0 1.02-.2 1.41-.59l7.78-7.78 2.81-2.81c.8-.78.8-2.07 0-2.86zM5.41 20L4 18.59l7.72-7.72 1.47 1.35L5.41 20z\"/>\n",
              "  </svg>\n",
              "      </button>\n",
              "      \n",
              "  <style>\n",
              "    .colab-df-container {\n",
              "      display:flex;\n",
              "      flex-wrap:wrap;\n",
              "      gap: 12px;\n",
              "    }\n",
              "\n",
              "    .colab-df-convert {\n",
              "      background-color: #E8F0FE;\n",
              "      border: none;\n",
              "      border-radius: 50%;\n",
              "      cursor: pointer;\n",
              "      display: none;\n",
              "      fill: #1967D2;\n",
              "      height: 32px;\n",
              "      padding: 0 0 0 0;\n",
              "      width: 32px;\n",
              "    }\n",
              "\n",
              "    .colab-df-convert:hover {\n",
              "      background-color: #E2EBFA;\n",
              "      box-shadow: 0px 1px 2px rgba(60, 64, 67, 0.3), 0px 1px 3px 1px rgba(60, 64, 67, 0.15);\n",
              "      fill: #174EA6;\n",
              "    }\n",
              "\n",
              "    [theme=dark] .colab-df-convert {\n",
              "      background-color: #3B4455;\n",
              "      fill: #D2E3FC;\n",
              "    }\n",
              "\n",
              "    [theme=dark] .colab-df-convert:hover {\n",
              "      background-color: #434B5C;\n",
              "      box-shadow: 0px 1px 3px 1px rgba(0, 0, 0, 0.15);\n",
              "      filter: drop-shadow(0px 1px 2px rgba(0, 0, 0, 0.3));\n",
              "      fill: #FFFFFF;\n",
              "    }\n",
              "  </style>\n",
              "\n",
              "      <script>\n",
              "        const buttonEl =\n",
              "          document.querySelector('#df-f533b08b-1e5d-40e3-aabf-ed49ee65095f button.colab-df-convert');\n",
              "        buttonEl.style.display =\n",
              "          google.colab.kernel.accessAllowed ? 'block' : 'none';\n",
              "\n",
              "        async function convertToInteractive(key) {\n",
              "          const element = document.querySelector('#df-f533b08b-1e5d-40e3-aabf-ed49ee65095f');\n",
              "          const dataTable =\n",
              "            await google.colab.kernel.invokeFunction('convertToInteractive',\n",
              "                                                     [key], {});\n",
              "          if (!dataTable) return;\n",
              "\n",
              "          const docLinkHtml = 'Like what you see? Visit the ' +\n",
              "            '<a target=\"_blank\" href=https://colab.research.google.com/notebooks/data_table.ipynb>data table notebook</a>'\n",
              "            + ' to learn more about interactive tables.';\n",
              "          element.innerHTML = '';\n",
              "          dataTable['output_type'] = 'display_data';\n",
              "          await google.colab.output.renderOutput(dataTable, element);\n",
              "          const docLink = document.createElement('div');\n",
              "          docLink.innerHTML = docLinkHtml;\n",
              "          element.appendChild(docLink);\n",
              "        }\n",
              "      </script>\n",
              "    </div>\n",
              "  </div>\n",
              "  "
            ]
          },
          "metadata": {},
          "execution_count": 16
        }
      ]
    },
    {
      "cell_type": "code",
      "source": [
        "group_dict={}"
      ],
      "metadata": {
        "id": "_HmTj1BoRrsL"
      },
      "execution_count": 17,
      "outputs": []
    },
    {
      "cell_type": "code",
      "source": [
        "group_dict={0:[]}"
      ],
      "metadata": {
        "id": "zY5XJp_iP3Zz"
      },
      "execution_count": 18,
      "outputs": []
    },
    {
      "cell_type": "code",
      "source": [
        "group_dict[1]=[1,2,3]\n",
        "group_dict[2]=[3,4,5]"
      ],
      "metadata": {
        "id": "EPhTurOQRBI6"
      },
      "execution_count": 19,
      "outputs": []
    },
    {
      "cell_type": "code",
      "source": [
        "group_dict"
      ],
      "metadata": {
        "colab": {
          "base_uri": "https://localhost:8080/"
        },
        "id": "vgYK0lX1RmOS",
        "outputId": "509d7b99-71d3-4db9-c66b-24530bdb835c"
      },
      "execution_count": 20,
      "outputs": [
        {
          "output_type": "execute_result",
          "data": {
            "text/plain": [
              "{0: [], 1: [1, 2, 3], 2: [3, 4, 5]}"
            ]
          },
          "metadata": {},
          "execution_count": 20
        }
      ]
    },
    {
      "cell_type": "code",
      "source": [
        "for element in group_dict:\n",
        "  print(group_dict[element])"
      ],
      "metadata": {
        "colab": {
          "base_uri": "https://localhost:8080/"
        },
        "id": "OoGep4oKSVnS",
        "outputId": "f722cca1-e8ec-4bd3-ee37-9f70c83be8be"
      },
      "execution_count": 21,
      "outputs": [
        {
          "output_type": "stream",
          "name": "stdout",
          "text": [
            "[]\n",
            "[1, 2, 3]\n",
            "[3, 4, 5]\n"
          ]
        }
      ]
    },
    {
      "cell_type": "code",
      "source": [
        "def  group_and_count(df,threshold): \n",
        "\n",
        "    threshold=threshold\n",
        "    df = df\n",
        "    group_dict={}\n",
        "\n",
        "    d={'name':[],'count':[],'matches':[],'group':[]}\n",
        "    counts_df=pd.DataFrame(data=d)\n",
        "\n",
        "    for row in df.iloc():\n",
        "      list_elements=[]\n",
        "      for element in row['Internal Matches']:\n",
        "        if element[1]>threshold:\n",
        "          #print(element)\n",
        "          list_elements.append(element[0])\n",
        "\n",
        "      group=0\n",
        "      for element in group_dict:\n",
        "        if set(group_dict[element]) & set(list_elements):\n",
        "          new_list=set(group_dict[element]+list_elements)\n",
        "          group=element\n",
        "          group_dict[group]=list(new_list)\n",
        "      if group == 0:\n",
        "        group = len(group_dict)+1\n",
        "        group_dict[group]=list_elements\n",
        "      #print(list_elements)\n",
        "      #print('next:',row['Data'],' count:',len(list_elements),' Group:',group ) \n",
        "      counts_df=counts_df.append({'name':row['Data'],'count':len(list_elements),'matches':list_elements,'group':group},ignore_index=True)\n",
        "    idx=counts_df.groupby(['group'], sort=False)['count'].transform(max)==counts_df['count']\n",
        "    return counts_df[idx],counts_df,group_dict"
      ],
      "metadata": {
        "id": "Jh_A9e5kICD_"
      },
      "execution_count": 22,
      "outputs": []
    },
    {
      "cell_type": "code",
      "source": [
        "top_words,counts_df,groups = group_and_count(df,70)"
      ],
      "metadata": {
        "id": "ABqQbJj3Xzwg"
      },
      "execution_count": 23,
      "outputs": []
    },
    {
      "cell_type": "code",
      "source": [
        "top_words"
      ],
      "metadata": {
        "colab": {
          "base_uri": "https://localhost:8080/",
          "height": 237
        },
        "id": "ACYxuAyocikw",
        "outputId": "39f79c36-ad96-4414-855f-74e170b06119"
      },
      "execution_count": 24,
      "outputs": [
        {
          "output_type": "execute_result",
          "data": {
            "text/plain": [
              "           name  count                                            matches  \\\n",
              "0    amazon.com   21.0  [amazon.com, ammazon.com, amazzon.com, aamazon...   \n",
              "9   amazon..com   21.0  [amazon..com, amazon.com, ammazon.com, amazzon...   \n",
              "23    scientest   21.0  [scientest, scienteist, scientist, scientsit, ...   \n",
              "42    coca-cola   20.0  [coca-cola, cocca-cola, coca-colla, cocaa-cola...   \n",
              "57     coca-coa   20.0  [coca-coa, coca-cola, coca-coal, cocca-cola, c...   \n",
              "59     cokacola   20.0  [cokacola, coka-cola, cooka-cola, cocacola, co...   \n",
              "\n",
              "    group  \n",
              "0     1.0  \n",
              "9     1.0  \n",
              "23    2.0  \n",
              "42    3.0  \n",
              "57    3.0  \n",
              "59    3.0  "
            ],
            "text/html": [
              "\n",
              "  <div id=\"df-3347be5c-e216-44eb-bee7-61efa9455bed\">\n",
              "    <div class=\"colab-df-container\">\n",
              "      <div>\n",
              "<style scoped>\n",
              "    .dataframe tbody tr th:only-of-type {\n",
              "        vertical-align: middle;\n",
              "    }\n",
              "\n",
              "    .dataframe tbody tr th {\n",
              "        vertical-align: top;\n",
              "    }\n",
              "\n",
              "    .dataframe thead th {\n",
              "        text-align: right;\n",
              "    }\n",
              "</style>\n",
              "<table border=\"1\" class=\"dataframe\">\n",
              "  <thead>\n",
              "    <tr style=\"text-align: right;\">\n",
              "      <th></th>\n",
              "      <th>name</th>\n",
              "      <th>count</th>\n",
              "      <th>matches</th>\n",
              "      <th>group</th>\n",
              "    </tr>\n",
              "  </thead>\n",
              "  <tbody>\n",
              "    <tr>\n",
              "      <th>0</th>\n",
              "      <td>amazon.com</td>\n",
              "      <td>21.0</td>\n",
              "      <td>[amazon.com, ammazon.com, amazzon.com, aamazon...</td>\n",
              "      <td>1.0</td>\n",
              "    </tr>\n",
              "    <tr>\n",
              "      <th>9</th>\n",
              "      <td>amazon..com</td>\n",
              "      <td>21.0</td>\n",
              "      <td>[amazon..com, amazon.com, ammazon.com, amazzon...</td>\n",
              "      <td>1.0</td>\n",
              "    </tr>\n",
              "    <tr>\n",
              "      <th>23</th>\n",
              "      <td>scientest</td>\n",
              "      <td>21.0</td>\n",
              "      <td>[scientest, scienteist, scientist, scientsit, ...</td>\n",
              "      <td>2.0</td>\n",
              "    </tr>\n",
              "    <tr>\n",
              "      <th>42</th>\n",
              "      <td>coca-cola</td>\n",
              "      <td>20.0</td>\n",
              "      <td>[coca-cola, cocca-cola, coca-colla, cocaa-cola...</td>\n",
              "      <td>3.0</td>\n",
              "    </tr>\n",
              "    <tr>\n",
              "      <th>57</th>\n",
              "      <td>coca-coa</td>\n",
              "      <td>20.0</td>\n",
              "      <td>[coca-coa, coca-cola, coca-coal, cocca-cola, c...</td>\n",
              "      <td>3.0</td>\n",
              "    </tr>\n",
              "    <tr>\n",
              "      <th>59</th>\n",
              "      <td>cokacola</td>\n",
              "      <td>20.0</td>\n",
              "      <td>[cokacola, coka-cola, cooka-cola, cocacola, co...</td>\n",
              "      <td>3.0</td>\n",
              "    </tr>\n",
              "  </tbody>\n",
              "</table>\n",
              "</div>\n",
              "      <button class=\"colab-df-convert\" onclick=\"convertToInteractive('df-3347be5c-e216-44eb-bee7-61efa9455bed')\"\n",
              "              title=\"Convert this dataframe to an interactive table.\"\n",
              "              style=\"display:none;\">\n",
              "        \n",
              "  <svg xmlns=\"http://www.w3.org/2000/svg\" height=\"24px\"viewBox=\"0 0 24 24\"\n",
              "       width=\"24px\">\n",
              "    <path d=\"M0 0h24v24H0V0z\" fill=\"none\"/>\n",
              "    <path d=\"M18.56 5.44l.94 2.06.94-2.06 2.06-.94-2.06-.94-.94-2.06-.94 2.06-2.06.94zm-11 1L8.5 8.5l.94-2.06 2.06-.94-2.06-.94L8.5 2.5l-.94 2.06-2.06.94zm10 10l.94 2.06.94-2.06 2.06-.94-2.06-.94-.94-2.06-.94 2.06-2.06.94z\"/><path d=\"M17.41 7.96l-1.37-1.37c-.4-.4-.92-.59-1.43-.59-.52 0-1.04.2-1.43.59L10.3 9.45l-7.72 7.72c-.78.78-.78 2.05 0 2.83L4 21.41c.39.39.9.59 1.41.59.51 0 1.02-.2 1.41-.59l7.78-7.78 2.81-2.81c.8-.78.8-2.07 0-2.86zM5.41 20L4 18.59l7.72-7.72 1.47 1.35L5.41 20z\"/>\n",
              "  </svg>\n",
              "      </button>\n",
              "      \n",
              "  <style>\n",
              "    .colab-df-container {\n",
              "      display:flex;\n",
              "      flex-wrap:wrap;\n",
              "      gap: 12px;\n",
              "    }\n",
              "\n",
              "    .colab-df-convert {\n",
              "      background-color: #E8F0FE;\n",
              "      border: none;\n",
              "      border-radius: 50%;\n",
              "      cursor: pointer;\n",
              "      display: none;\n",
              "      fill: #1967D2;\n",
              "      height: 32px;\n",
              "      padding: 0 0 0 0;\n",
              "      width: 32px;\n",
              "    }\n",
              "\n",
              "    .colab-df-convert:hover {\n",
              "      background-color: #E2EBFA;\n",
              "      box-shadow: 0px 1px 2px rgba(60, 64, 67, 0.3), 0px 1px 3px 1px rgba(60, 64, 67, 0.15);\n",
              "      fill: #174EA6;\n",
              "    }\n",
              "\n",
              "    [theme=dark] .colab-df-convert {\n",
              "      background-color: #3B4455;\n",
              "      fill: #D2E3FC;\n",
              "    }\n",
              "\n",
              "    [theme=dark] .colab-df-convert:hover {\n",
              "      background-color: #434B5C;\n",
              "      box-shadow: 0px 1px 3px 1px rgba(0, 0, 0, 0.15);\n",
              "      filter: drop-shadow(0px 1px 2px rgba(0, 0, 0, 0.3));\n",
              "      fill: #FFFFFF;\n",
              "    }\n",
              "  </style>\n",
              "\n",
              "      <script>\n",
              "        const buttonEl =\n",
              "          document.querySelector('#df-3347be5c-e216-44eb-bee7-61efa9455bed button.colab-df-convert');\n",
              "        buttonEl.style.display =\n",
              "          google.colab.kernel.accessAllowed ? 'block' : 'none';\n",
              "\n",
              "        async function convertToInteractive(key) {\n",
              "          const element = document.querySelector('#df-3347be5c-e216-44eb-bee7-61efa9455bed');\n",
              "          const dataTable =\n",
              "            await google.colab.kernel.invokeFunction('convertToInteractive',\n",
              "                                                     [key], {});\n",
              "          if (!dataTable) return;\n",
              "\n",
              "          const docLinkHtml = 'Like what you see? Visit the ' +\n",
              "            '<a target=\"_blank\" href=https://colab.research.google.com/notebooks/data_table.ipynb>data table notebook</a>'\n",
              "            + ' to learn more about interactive tables.';\n",
              "          element.innerHTML = '';\n",
              "          dataTable['output_type'] = 'display_data';\n",
              "          await google.colab.output.renderOutput(dataTable, element);\n",
              "          const docLink = document.createElement('div');\n",
              "          docLink.innerHTML = docLinkHtml;\n",
              "          element.appendChild(docLink);\n",
              "        }\n",
              "      </script>\n",
              "    </div>\n",
              "  </div>\n",
              "  "
            ]
          },
          "metadata": {},
          "execution_count": 24
        }
      ]
    },
    {
      "cell_type": "code",
      "source": [
        "groups={}\n",
        "\n",
        "words_array = np.zeros(60)\n",
        "group_array = np.zeros(60)\n",
        "for i in range(40,100):\n",
        "  top_words,counts_df,groups = group_and_count(df,i)\n",
        "  \n",
        "  print('threshold: ',i,'number of top words:', len(top_words),' max groups:', len(groups))\n",
        "  X = len(top_words)\n",
        "  words_array[i - 40] = len(top_words)\n",
        "  group_array[i - 40] = len(groups)\n"
      ],
      "metadata": {
        "colab": {
          "base_uri": "https://localhost:8080/"
        },
        "id": "sZRfpuLCcNrF",
        "outputId": "bf5a8936-87e8-46d4-97cd-939ce0a55ba7"
      },
      "execution_count": 25,
      "outputs": [
        {
          "output_type": "stream",
          "name": "stdout",
          "text": [
            "threshold:  40 number of top words: 17  max groups: 2\n",
            "threshold:  41 number of top words: 17  max groups: 2\n",
            "threshold:  42 number of top words: 17  max groups: 2\n",
            "threshold:  43 number of top words: 17  max groups: 2\n",
            "threshold:  44 number of top words: 16  max groups: 2\n",
            "threshold:  45 number of top words: 16  max groups: 2\n",
            "threshold:  46 number of top words: 16  max groups: 2\n",
            "threshold:  47 number of top words: 25  max groups: 2\n",
            "threshold:  48 number of top words: 19  max groups: 2\n",
            "threshold:  49 number of top words: 19  max groups: 2\n",
            "threshold:  50 number of top words: 10  max groups: 2\n",
            "threshold:  51 number of top words: 10  max groups: 2\n",
            "threshold:  52 number of top words: 10  max groups: 2\n",
            "threshold:  53 number of top words: 39  max groups: 3\n",
            "threshold:  54 number of top words: 39  max groups: 3\n",
            "threshold:  55 number of top words: 39  max groups: 3\n",
            "threshold:  56 number of top words: 30  max groups: 3\n",
            "threshold:  57 number of top words: 30  max groups: 3\n",
            "threshold:  58 number of top words: 30  max groups: 3\n",
            "threshold:  59 number of top words: 25  max groups: 3\n",
            "threshold:  60 number of top words: 19  max groups: 3\n",
            "threshold:  61 number of top words: 19  max groups: 3\n",
            "threshold:  62 number of top words: 19  max groups: 3\n",
            "threshold:  63 number of top words: 12  max groups: 3\n",
            "threshold:  64 number of top words: 12  max groups: 3\n",
            "threshold:  65 number of top words: 12  max groups: 3\n",
            "threshold:  66 number of top words: 12  max groups: 3\n",
            "threshold:  67 number of top words: 10  max groups: 3\n",
            "threshold:  68 number of top words: 10  max groups: 3\n",
            "threshold:  69 number of top words: 10  max groups: 3\n",
            "threshold:  70 number of top words: 6  max groups: 3\n",
            "threshold:  71 number of top words: 12  max groups: 3\n",
            "threshold:  72 number of top words: 12  max groups: 3\n",
            "threshold:  73 number of top words: 12  max groups: 3\n",
            "threshold:  74 number of top words: 8  max groups: 4\n",
            "threshold:  75 number of top words: 6  max groups: 4\n",
            "threshold:  76 number of top words: 7  max groups: 6\n",
            "threshold:  77 number of top words: 7  max groups: 6\n",
            "threshold:  78 number of top words: 9  max groups: 7\n",
            "threshold:  79 number of top words: 9  max groups: 7\n",
            "threshold:  80 number of top words: 13  max groups: 9\n",
            "threshold:  81 number of top words: 13  max groups: 9\n",
            "threshold:  82 number of top words: 9  max groups: 9\n",
            "threshold:  83 number of top words: 9  max groups: 9\n",
            "threshold:  84 number of top words: 14  max groups: 9\n",
            "threshold:  85 number of top words: 14  max groups: 9\n",
            "threshold:  86 number of top words: 9  max groups: 9\n",
            "threshold:  87 number of top words: 9  max groups: 9\n",
            "threshold:  88 number of top words: 13  max groups: 13\n",
            "threshold:  89 number of top words: 18  max groups: 18\n",
            "threshold:  90 number of top words: 26  max groups: 26\n",
            "threshold:  91 number of top words: 26  max groups: 26\n",
            "threshold:  92 number of top words: 26  max groups: 26\n",
            "threshold:  93 number of top words: 26  max groups: 26\n",
            "threshold:  94 number of top words: 42  max groups: 40\n",
            "threshold:  95 number of top words: 63  max groups: 63\n",
            "threshold:  96 number of top words: 63  max groups: 63\n",
            "threshold:  97 number of top words: 63  max groups: 63\n",
            "threshold:  98 number of top words: 63  max groups: 63\n",
            "threshold:  99 number of top words: 63  max groups: 63\n"
          ]
        }
      ]
    },
    {
      "cell_type": "code",
      "source": [
        "\n",
        "plt.figure()\n",
        "plt.plot(range(40, 100), (words_array))\n",
        "plt.plot(range(40, 100), (group_array))"
      ],
      "metadata": {
        "colab": {
          "base_uri": "https://localhost:8080/",
          "height": 282
        },
        "id": "MpWidbals6-_",
        "outputId": "4b0f23d8-f0bd-467e-8f40-54b9f7a7b0ef"
      },
      "execution_count": 26,
      "outputs": [
        {
          "output_type": "execute_result",
          "data": {
            "text/plain": [
              "[<matplotlib.lines.Line2D at 0x7f6c33e99a50>]"
            ]
          },
          "metadata": {},
          "execution_count": 26
        },
        {
          "output_type": "display_data",
          "data": {
            "text/plain": [
              "<Figure size 432x288 with 1 Axes>"
            ],
            "image/png": "[encoded data removed]"
          },
          "metadata": {
            "needs_background": "light"
          }
        }
      ]
    },
    {
      "cell_type": "code",
      "source": [
        "print(groups.keys())"
      ],
      "metadata": {
        "colab": {
          "base_uri": "https://localhost:8080/"
        },
        "id": "7x3Faey4bvWk",
        "outputId": "b96ed4e8-3587-4a77-d8a4-ac6d301cc633"
      },
      "execution_count": 27,
      "outputs": [
        {
          "output_type": "stream",
          "name": "stdout",
          "text": [
            "dict_keys([1, 2, 3, 4, 5, 6, 7, 8, 9, 10, 11, 12, 13, 14, 15, 16, 17, 18, 19, 20, 21, 22, 23, 24, 25, 26, 27, 28, 29, 30, 31, 32, 33, 34, 35, 36, 37, 38, 39, 40, 41, 42, 43, 44, 45, 46, 47, 48, 49, 50, 51, 52, 53, 54, 55, 56, 57, 58, 59, 60, 61, 62, 63])\n"
          ]
        }
      ]
    },
    {
      "cell_type": "code",
      "source": [
        "idx=counts_df.groupby(['group'], sort=False)['count'].transform(max)==counts_df['count']"
      ],
      "metadata": {
        "id": "PbjGovMgYbFF"
      },
      "execution_count": 28,
      "outputs": []
    },
    {
      "cell_type": "code",
      "source": [
        "counts_df[idx]"
      ],
      "metadata": {
        "colab": {
          "base_uri": "https://localhost:8080/",
          "height": 424
        },
        "id": "Pa44AAFTZOXj",
        "outputId": "260d8ef4-e69f-4ecb-c6b2-fad54cf42e5e"
      },
      "execution_count": 29,
      "outputs": [
        {
          "output_type": "execute_result",
          "data": {
            "text/plain": [
              "           name  count        matches  group\n",
              "0    amazon.com    1.0   [amazon.com]    1.0\n",
              "1   ammazon.com    1.0  [ammazon.com]    2.0\n",
              "2    amizon.com    1.0   [amizon.com]    3.0\n",
              "3   amazzon.com    1.0  [amazzon.com]    4.0\n",
              "4    amazon.clm    1.0   [amazon.clm]    5.0\n",
              "..          ...    ...            ...    ...\n",
              "58   cocaa-cola    1.0   [cocaa-cola]   59.0\n",
              "59     cokacola    1.0     [cokacola]   60.0\n",
              "60     cokacoal    1.0     [cokacoal]   61.0\n",
              "61   cocoa-cola    1.0   [cocoa-cola]   62.0\n",
              "62     cocacloa    1.0     [cocacloa]   63.0\n",
              "\n",
              "[63 rows x 4 columns]"
            ],
            "text/html": [
              "\n",
              "  <div id=\"df-6e3190ac-6b91-4c07-bb40-8f204ff35a1a\">\n",
              "    <div class=\"colab-df-container\">\n",
              "      <div>\n",
              "<style scoped>\n",
              "    .dataframe tbody tr th:only-of-type {\n",
              "        vertical-align: middle;\n",
              "    }\n",
              "\n",
              "    .dataframe tbody tr th {\n",
              "        vertical-align: top;\n",
              "    }\n",
              "\n",
              "    .dataframe thead th {\n",
              "        text-align: right;\n",
              "    }\n",
              "</style>\n",
              "<table border=\"1\" class=\"dataframe\">\n",
              "  <thead>\n",
              "    <tr style=\"text-align: right;\">\n",
              "      <th></th>\n",
              "      <th>name</th>\n",
              "      <th>count</th>\n",
              "      <th>matches</th>\n",
              "      <th>group</th>\n",
              "    </tr>\n",
              "  </thead>\n",
              "  <tbody>\n",
              "    <tr>\n",
              "      <th>0</th>\n",
              "      <td>amazon.com</td>\n",
              "      <td>1.0</td>\n",
              "      <td>[amazon.com]</td>\n",
              "      <td>1.0</td>\n",
              "    </tr>\n",
              "    <tr>\n",
              "      <th>1</th>\n",
              "      <td>ammazon.com</td>\n",
              "      <td>1.0</td>\n",
              "      <td>[ammazon.com]</td>\n",
              "      <td>2.0</td>\n",
              "    </tr>\n",
              "    <tr>\n",
              "      <th>2</th>\n",
              "      <td>amizon.com</td>\n",
              "      <td>1.0</td>\n",
              "      <td>[amizon.com]</td>\n",
              "      <td>3.0</td>\n",
              "    </tr>\n",
              "    <tr>\n",
              "      <th>3</th>\n",
              "      <td>amazzon.com</td>\n",
              "      <td>1.0</td>\n",
              "      <td>[amazzon.com]</td>\n",
              "      <td>4.0</td>\n",
              "    </tr>\n",
              "    <tr>\n",
              "      <th>4</th>\n",
              "      <td>amazon.clm</td>\n",
              "      <td>1.0</td>\n",
              "      <td>[amazon.clm]</td>\n",
              "      <td>5.0</td>\n",
              "    </tr>\n",
              "    <tr>\n",
              "      <th>...</th>\n",
              "      <td>...</td>\n",
              "      <td>...</td>\n",
              "      <td>...</td>\n",
              "      <td>...</td>\n",
              "    </tr>\n",
              "    <tr>\n",
              "      <th>58</th>\n",
              "      <td>cocaa-cola</td>\n",
              "      <td>1.0</td>\n",
              "      <td>[cocaa-cola]</td>\n",
              "      <td>59.0</td>\n",
              "    </tr>\n",
              "    <tr>\n",
              "      <th>59</th>\n",
              "      <td>cokacola</td>\n",
              "      <td>1.0</td>\n",
              "      <td>[cokacola]</td>\n",
              "      <td>60.0</td>\n",
              "    </tr>\n",
              "    <tr>\n",
              "      <th>60</th>\n",
              "      <td>cokacoal</td>\n",
              "      <td>1.0</td>\n",
              "      <td>[cokacoal]</td>\n",
              "      <td>61.0</td>\n",
              "    </tr>\n",
              "    <tr>\n",
              "      <th>61</th>\n",
              "      <td>cocoa-cola</td>\n",
              "      <td>1.0</td>\n",
              "      <td>[cocoa-cola]</td>\n",
              "      <td>62.0</td>\n",
              "    </tr>\n",
              "    <tr>\n",
              "      <th>62</th>\n",
              "      <td>cocacloa</td>\n",
              "      <td>1.0</td>\n",
              "      <td>[cocacloa]</td>\n",
              "      <td>63.0</td>\n",
              "    </tr>\n",
              "  </tbody>\n",
              "</table>\n",
              "<p>63 rows × 4 columns</p>\n",
              "</div>\n",
              "      <button class=\"colab-df-convert\" onclick=\"convertToInteractive('df-6e3190ac-6b91-4c07-bb40-8f204ff35a1a')\"\n",
              "              title=\"Convert this dataframe to an interactive table.\"\n",
              "              style=\"display:none;\">\n",
              "        \n",
              "  <svg xmlns=\"http://www.w3.org/2000/svg\" height=\"24px\"viewBox=\"0 0 24 24\"\n",
              "       width=\"24px\">\n",
              "    <path d=\"M0 0h24v24H0V0z\" fill=\"none\"/>\n",
              "    <path d=\"M18.56 5.44l.94 2.06.94-2.06 2.06-.94-2.06-.94-.94-2.06-.94 2.06-2.06.94zm-11 1L8.5 8.5l.94-2.06 2.06-.94-2.06-.94L8.5 2.5l-.94 2.06-2.06.94zm10 10l.94 2.06.94-2.06 2.06-.94-2.06-.94-.94-2.06-.94 2.06-2.06.94z\"/><path d=\"M17.41 7.96l-1.37-1.37c-.4-.4-.92-.59-1.43-.59-.52 0-1.04.2-1.43.59L10.3 9.45l-7.72 7.72c-.78.78-.78 2.05 0 2.83L4 21.41c.39.39.9.59 1.41.59.51 0 1.02-.2 1.41-.59l7.78-7.78 2.81-2.81c.8-.78.8-2.07 0-2.86zM5.41 20L4 18.59l7.72-7.72 1.47 1.35L5.41 20z\"/>\n",
              "  </svg>\n",
              "      </button>\n",
              "      \n",
              "  <style>\n",
              "    .colab-df-container {\n",
              "      display:flex;\n",
              "      flex-wrap:wrap;\n",
              "      gap: 12px;\n",
              "    }\n",
              "\n",
              "    .colab-df-convert {\n",
              "      background-color: #E8F0FE;\n",
              "      border: none;\n",
              "      border-radius: 50%;\n",
              "      cursor: pointer;\n",
              "      display: none;\n",
              "      fill: #1967D2;\n",
              "      height: 32px;\n",
              "      padding: 0 0 0 0;\n",
              "      width: 32px;\n",
              "    }\n",
              "\n",
              "    .colab-df-convert:hover {\n",
              "      background-color: #E2EBFA;\n",
              "      box-shadow: 0px 1px 2px rgba(60, 64, 67, 0.3), 0px 1px 3px 1px rgba(60, 64, 67, 0.15);\n",
              "      fill: #174EA6;\n",
              "    }\n",
              "\n",
              "    [theme=dark] .colab-df-convert {\n",
              "      background-color: #3B4455;\n",
              "      fill: #D2E3FC;\n",
              "    }\n",
              "\n",
              "    [theme=dark] .colab-df-convert:hover {\n",
              "      background-color: #434B5C;\n",
              "      box-shadow: 0px 1px 3px 1px rgba(0, 0, 0, 0.15);\n",
              "      filter: drop-shadow(0px 1px 2px rgba(0, 0, 0, 0.3));\n",
              "      fill: #FFFFFF;\n",
              "    }\n",
              "  </style>\n",
              "\n",
              "      <script>\n",
              "        const buttonEl =\n",
              "          document.querySelector('#df-6e3190ac-6b91-4c07-bb40-8f204ff35a1a button.colab-df-convert');\n",
              "        buttonEl.style.display =\n",
              "          google.colab.kernel.accessAllowed ? 'block' : 'none';\n",
              "\n",
              "        async function convertToInteractive(key) {\n",
              "          const element = document.querySelector('#df-6e3190ac-6b91-4c07-bb40-8f204ff35a1a');\n",
              "          const dataTable =\n",
              "            await google.colab.kernel.invokeFunction('convertToInteractive',\n",
              "                                                     [key], {});\n",
              "          if (!dataTable) return;\n",
              "\n",
              "          const docLinkHtml = 'Like what you see? Visit the ' +\n",
              "            '<a target=\"_blank\" href=https://colab.research.google.com/notebooks/data_table.ipynb>data table notebook</a>'\n",
              "            + ' to learn more about interactive tables.';\n",
              "          element.innerHTML = '';\n",
              "          dataTable['output_type'] = 'display_data';\n",
              "          await google.colab.output.renderOutput(dataTable, element);\n",
              "          const docLink = document.createElement('div');\n",
              "          docLink.innerHTML = docLinkHtml;\n",
              "          element.appendChild(docLink);\n",
              "        }\n",
              "      </script>\n",
              "    </div>\n",
              "  </div>\n",
              "  "
            ]
          },
          "metadata": {},
          "execution_count": 29
        }
      ]
    },
    {
      "cell_type": "code",
      "source": [
        "group_dict"
      ],
      "metadata": {
        "colab": {
          "base_uri": "https://localhost:8080/"
        },
        "id": "37HeFifkWMcT",
        "outputId": "3c246225-2c6c-4191-e9e4-a2a6a30b2dde"
      },
      "execution_count": 30,
      "outputs": [
        {
          "output_type": "execute_result",
          "data": {
            "text/plain": [
              "{0: [], 1: [1, 2, 3], 2: [3, 4, 5]}"
            ]
          },
          "metadata": {},
          "execution_count": 30
        }
      ]
    },
    {
      "cell_type": "code",
      "source": [
        "for element in group_dict:\n",
        "  print(group_dict[element])"
      ],
      "metadata": {
        "colab": {
          "base_uri": "https://localhost:8080/"
        },
        "outputId": "afc72a02-b439-4608-bfd9-8eb8fa814fd5",
        "id": "rW_wJwh9TfQp"
      },
      "execution_count": 31,
      "outputs": [
        {
          "output_type": "stream",
          "name": "stdout",
          "text": [
            "[]\n",
            "[1, 2, 3]\n",
            "[3, 4, 5]\n"
          ]
        }
      ]
    }
  ]
}